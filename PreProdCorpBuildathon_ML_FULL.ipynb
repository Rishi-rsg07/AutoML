{
  "nbformat": 4,
  "nbformat_minor": 0,
  "metadata": {
    "colab": {
      "provenance": []
    },
    "kernelspec": {
      "name": "python3",
      "display_name": "Python 3"
    },
    "language_info": {
      "name": "python"
    }
  },
  "cells": [
    {
      "cell_type": "markdown",
      "source": [
        "# **Data Analysis**"
      ],
      "metadata": {
        "id": "QDPlvUYo3U2d"
      }
    },
    {
      "cell_type": "code",
      "execution_count": 4,
      "metadata": {
        "id": "WuRIAExh3U2d"
      },
      "outputs": [],
      "source": [
        "import numpy as np\n",
        "import pandas as pd\n",
        "import matplotlib.pyplot as plt\n",
        "import seaborn as sns"
      ]
    },
    {
      "cell_type": "code",
      "source": [
        "path=input(\"Enter the path of data:\")\n",
        "\n"
      ],
      "metadata": {
        "id": "f77Uqy5F3U2e",
        "colab": {
          "base_uri": "https://localhost:8080/"
        },
        "outputId": "0d4bab58-0713-44ec-d23b-691f9a65a532"
      },
      "execution_count": 5,
      "outputs": [
        {
          "name": "stdout",
          "output_type": "stream",
          "text": [
            "Enter the path of data:/content/Mobileprice_fromjson.csv\n"
          ]
        }
      ]
    },
    {
      "cell_type": "code",
      "source": [
        "df=pd.read_csv(path)\n",
        "eda_df=df.copy(deep=True)\n",
        "eda_df.head()"
      ],
      "metadata": {
        "id": "29_3XEob3U2e",
        "colab": {
          "base_uri": "https://localhost:8080/",
          "height": 206
        },
        "outputId": "0182997e-e8db-45eb-9e04-037bf74f8c29"
      },
      "execution_count": 6,
      "outputs": [
        {
          "output_type": "execute_result",
          "data": {
            "text/plain": [
              "  Customer_id Brand_name  Screen_size  Battery_capacity  Ram_size  \\\n",
              "0      4382JV      Apple          7.5             11250        12   \n",
              "1      tCTYRh     Xiaomi          7.7             11550        12   \n",
              "2      Mx77Cv     Xiaomi          6.0              9000         9   \n",
              "3      2J38jY    Samsung          5.5              8250         9   \n",
              "4      r2Hh39       Oppo          4.9              7350         8   \n",
              "\n",
              "   Storage_capacity Purchase_date  Price Payment_type  Units_sold  \n",
              "0               512    2023/09/23    791       paypal        3532  \n",
              "1               512    2023/06/13    792  credit card        3400  \n",
              "2                32    2024/04/25     66         cash        1638  \n",
              "3               250    2023/03/08    392       paypal        1176  \n",
              "4                64    2023/03/31    111  credit card        2802  "
            ],
            "text/html": [
              "\n",
              "  <div id=\"df-eb3eac96-9ad8-414a-93ab-8849f91779dd\" class=\"colab-df-container\">\n",
              "    <div>\n",
              "<style scoped>\n",
              "    .dataframe tbody tr th:only-of-type {\n",
              "        vertical-align: middle;\n",
              "    }\n",
              "\n",
              "    .dataframe tbody tr th {\n",
              "        vertical-align: top;\n",
              "    }\n",
              "\n",
              "    .dataframe thead th {\n",
              "        text-align: right;\n",
              "    }\n",
              "</style>\n",
              "<table border=\"1\" class=\"dataframe\">\n",
              "  <thead>\n",
              "    <tr style=\"text-align: right;\">\n",
              "      <th></th>\n",
              "      <th>Customer_id</th>\n",
              "      <th>Brand_name</th>\n",
              "      <th>Screen_size</th>\n",
              "      <th>Battery_capacity</th>\n",
              "      <th>Ram_size</th>\n",
              "      <th>Storage_capacity</th>\n",
              "      <th>Purchase_date</th>\n",
              "      <th>Price</th>\n",
              "      <th>Payment_type</th>\n",
              "      <th>Units_sold</th>\n",
              "    </tr>\n",
              "  </thead>\n",
              "  <tbody>\n",
              "    <tr>\n",
              "      <th>0</th>\n",
              "      <td>4382JV</td>\n",
              "      <td>Apple</td>\n",
              "      <td>7.5</td>\n",
              "      <td>11250</td>\n",
              "      <td>12</td>\n",
              "      <td>512</td>\n",
              "      <td>2023/09/23</td>\n",
              "      <td>791</td>\n",
              "      <td>paypal</td>\n",
              "      <td>3532</td>\n",
              "    </tr>\n",
              "    <tr>\n",
              "      <th>1</th>\n",
              "      <td>tCTYRh</td>\n",
              "      <td>Xiaomi</td>\n",
              "      <td>7.7</td>\n",
              "      <td>11550</td>\n",
              "      <td>12</td>\n",
              "      <td>512</td>\n",
              "      <td>2023/06/13</td>\n",
              "      <td>792</td>\n",
              "      <td>credit card</td>\n",
              "      <td>3400</td>\n",
              "    </tr>\n",
              "    <tr>\n",
              "      <th>2</th>\n",
              "      <td>Mx77Cv</td>\n",
              "      <td>Xiaomi</td>\n",
              "      <td>6.0</td>\n",
              "      <td>9000</td>\n",
              "      <td>9</td>\n",
              "      <td>32</td>\n",
              "      <td>2024/04/25</td>\n",
              "      <td>66</td>\n",
              "      <td>cash</td>\n",
              "      <td>1638</td>\n",
              "    </tr>\n",
              "    <tr>\n",
              "      <th>3</th>\n",
              "      <td>2J38jY</td>\n",
              "      <td>Samsung</td>\n",
              "      <td>5.5</td>\n",
              "      <td>8250</td>\n",
              "      <td>9</td>\n",
              "      <td>250</td>\n",
              "      <td>2023/03/08</td>\n",
              "      <td>392</td>\n",
              "      <td>paypal</td>\n",
              "      <td>1176</td>\n",
              "    </tr>\n",
              "    <tr>\n",
              "      <th>4</th>\n",
              "      <td>r2Hh39</td>\n",
              "      <td>Oppo</td>\n",
              "      <td>4.9</td>\n",
              "      <td>7350</td>\n",
              "      <td>8</td>\n",
              "      <td>64</td>\n",
              "      <td>2023/03/31</td>\n",
              "      <td>111</td>\n",
              "      <td>credit card</td>\n",
              "      <td>2802</td>\n",
              "    </tr>\n",
              "  </tbody>\n",
              "</table>\n",
              "</div>\n",
              "    <div class=\"colab-df-buttons\">\n",
              "\n",
              "  <div class=\"colab-df-container\">\n",
              "    <button class=\"colab-df-convert\" onclick=\"convertToInteractive('df-eb3eac96-9ad8-414a-93ab-8849f91779dd')\"\n",
              "            title=\"Convert this dataframe to an interactive table.\"\n",
              "            style=\"display:none;\">\n",
              "\n",
              "  <svg xmlns=\"http://www.w3.org/2000/svg\" height=\"24px\" viewBox=\"0 -960 960 960\">\n",
              "    <path d=\"M120-120v-720h720v720H120Zm60-500h600v-160H180v160Zm220 220h160v-160H400v160Zm0 220h160v-160H400v160ZM180-400h160v-160H180v160Zm440 0h160v-160H620v160ZM180-180h160v-160H180v160Zm440 0h160v-160H620v160Z\"/>\n",
              "  </svg>\n",
              "    </button>\n",
              "\n",
              "  <style>\n",
              "    .colab-df-container {\n",
              "      display:flex;\n",
              "      gap: 12px;\n",
              "    }\n",
              "\n",
              "    .colab-df-convert {\n",
              "      background-color: #E8F0FE;\n",
              "      border: none;\n",
              "      border-radius: 50%;\n",
              "      cursor: pointer;\n",
              "      display: none;\n",
              "      fill: #1967D2;\n",
              "      height: 32px;\n",
              "      padding: 0 0 0 0;\n",
              "      width: 32px;\n",
              "    }\n",
              "\n",
              "    .colab-df-convert:hover {\n",
              "      background-color: #E2EBFA;\n",
              "      box-shadow: 0px 1px 2px rgba(60, 64, 67, 0.3), 0px 1px 3px 1px rgba(60, 64, 67, 0.15);\n",
              "      fill: #174EA6;\n",
              "    }\n",
              "\n",
              "    .colab-df-buttons div {\n",
              "      margin-bottom: 4px;\n",
              "    }\n",
              "\n",
              "    [theme=dark] .colab-df-convert {\n",
              "      background-color: #3B4455;\n",
              "      fill: #D2E3FC;\n",
              "    }\n",
              "\n",
              "    [theme=dark] .colab-df-convert:hover {\n",
              "      background-color: #434B5C;\n",
              "      box-shadow: 0px 1px 3px 1px rgba(0, 0, 0, 0.15);\n",
              "      filter: drop-shadow(0px 1px 2px rgba(0, 0, 0, 0.3));\n",
              "      fill: #FFFFFF;\n",
              "    }\n",
              "  </style>\n",
              "\n",
              "    <script>\n",
              "      const buttonEl =\n",
              "        document.querySelector('#df-eb3eac96-9ad8-414a-93ab-8849f91779dd button.colab-df-convert');\n",
              "      buttonEl.style.display =\n",
              "        google.colab.kernel.accessAllowed ? 'block' : 'none';\n",
              "\n",
              "      async function convertToInteractive(key) {\n",
              "        const element = document.querySelector('#df-eb3eac96-9ad8-414a-93ab-8849f91779dd');\n",
              "        const dataTable =\n",
              "          await google.colab.kernel.invokeFunction('convertToInteractive',\n",
              "                                                    [key], {});\n",
              "        if (!dataTable) return;\n",
              "\n",
              "        const docLinkHtml = 'Like what you see? Visit the ' +\n",
              "          '<a target=\"_blank\" href=https://colab.research.google.com/notebooks/data_table.ipynb>data table notebook</a>'\n",
              "          + ' to learn more about interactive tables.';\n",
              "        element.innerHTML = '';\n",
              "        dataTable['output_type'] = 'display_data';\n",
              "        await google.colab.output.renderOutput(dataTable, element);\n",
              "        const docLink = document.createElement('div');\n",
              "        docLink.innerHTML = docLinkHtml;\n",
              "        element.appendChild(docLink);\n",
              "      }\n",
              "    </script>\n",
              "  </div>\n",
              "\n",
              "\n",
              "<div id=\"df-2a1843af-7ceb-468b-b31c-e5a43421c7b5\">\n",
              "  <button class=\"colab-df-quickchart\" onclick=\"quickchart('df-2a1843af-7ceb-468b-b31c-e5a43421c7b5')\"\n",
              "            title=\"Suggest charts\"\n",
              "            style=\"display:none;\">\n",
              "\n",
              "<svg xmlns=\"http://www.w3.org/2000/svg\" height=\"24px\"viewBox=\"0 0 24 24\"\n",
              "     width=\"24px\">\n",
              "    <g>\n",
              "        <path d=\"M19 3H5c-1.1 0-2 .9-2 2v14c0 1.1.9 2 2 2h14c1.1 0 2-.9 2-2V5c0-1.1-.9-2-2-2zM9 17H7v-7h2v7zm4 0h-2V7h2v10zm4 0h-2v-4h2v4z\"/>\n",
              "    </g>\n",
              "</svg>\n",
              "  </button>\n",
              "\n",
              "<style>\n",
              "  .colab-df-quickchart {\n",
              "      --bg-color: #E8F0FE;\n",
              "      --fill-color: #1967D2;\n",
              "      --hover-bg-color: #E2EBFA;\n",
              "      --hover-fill-color: #174EA6;\n",
              "      --disabled-fill-color: #AAA;\n",
              "      --disabled-bg-color: #DDD;\n",
              "  }\n",
              "\n",
              "  [theme=dark] .colab-df-quickchart {\n",
              "      --bg-color: #3B4455;\n",
              "      --fill-color: #D2E3FC;\n",
              "      --hover-bg-color: #434B5C;\n",
              "      --hover-fill-color: #FFFFFF;\n",
              "      --disabled-bg-color: #3B4455;\n",
              "      --disabled-fill-color: #666;\n",
              "  }\n",
              "\n",
              "  .colab-df-quickchart {\n",
              "    background-color: var(--bg-color);\n",
              "    border: none;\n",
              "    border-radius: 50%;\n",
              "    cursor: pointer;\n",
              "    display: none;\n",
              "    fill: var(--fill-color);\n",
              "    height: 32px;\n",
              "    padding: 0;\n",
              "    width: 32px;\n",
              "  }\n",
              "\n",
              "  .colab-df-quickchart:hover {\n",
              "    background-color: var(--hover-bg-color);\n",
              "    box-shadow: 0 1px 2px rgba(60, 64, 67, 0.3), 0 1px 3px 1px rgba(60, 64, 67, 0.15);\n",
              "    fill: var(--button-hover-fill-color);\n",
              "  }\n",
              "\n",
              "  .colab-df-quickchart-complete:disabled,\n",
              "  .colab-df-quickchart-complete:disabled:hover {\n",
              "    background-color: var(--disabled-bg-color);\n",
              "    fill: var(--disabled-fill-color);\n",
              "    box-shadow: none;\n",
              "  }\n",
              "\n",
              "  .colab-df-spinner {\n",
              "    border: 2px solid var(--fill-color);\n",
              "    border-color: transparent;\n",
              "    border-bottom-color: var(--fill-color);\n",
              "    animation:\n",
              "      spin 1s steps(1) infinite;\n",
              "  }\n",
              "\n",
              "  @keyframes spin {\n",
              "    0% {\n",
              "      border-color: transparent;\n",
              "      border-bottom-color: var(--fill-color);\n",
              "      border-left-color: var(--fill-color);\n",
              "    }\n",
              "    20% {\n",
              "      border-color: transparent;\n",
              "      border-left-color: var(--fill-color);\n",
              "      border-top-color: var(--fill-color);\n",
              "    }\n",
              "    30% {\n",
              "      border-color: transparent;\n",
              "      border-left-color: var(--fill-color);\n",
              "      border-top-color: var(--fill-color);\n",
              "      border-right-color: var(--fill-color);\n",
              "    }\n",
              "    40% {\n",
              "      border-color: transparent;\n",
              "      border-right-color: var(--fill-color);\n",
              "      border-top-color: var(--fill-color);\n",
              "    }\n",
              "    60% {\n",
              "      border-color: transparent;\n",
              "      border-right-color: var(--fill-color);\n",
              "    }\n",
              "    80% {\n",
              "      border-color: transparent;\n",
              "      border-right-color: var(--fill-color);\n",
              "      border-bottom-color: var(--fill-color);\n",
              "    }\n",
              "    90% {\n",
              "      border-color: transparent;\n",
              "      border-bottom-color: var(--fill-color);\n",
              "    }\n",
              "  }\n",
              "</style>\n",
              "\n",
              "  <script>\n",
              "    async function quickchart(key) {\n",
              "      const quickchartButtonEl =\n",
              "        document.querySelector('#' + key + ' button');\n",
              "      quickchartButtonEl.disabled = true;  // To prevent multiple clicks.\n",
              "      quickchartButtonEl.classList.add('colab-df-spinner');\n",
              "      try {\n",
              "        const charts = await google.colab.kernel.invokeFunction(\n",
              "            'suggestCharts', [key], {});\n",
              "      } catch (error) {\n",
              "        console.error('Error during call to suggestCharts:', error);\n",
              "      }\n",
              "      quickchartButtonEl.classList.remove('colab-df-spinner');\n",
              "      quickchartButtonEl.classList.add('colab-df-quickchart-complete');\n",
              "    }\n",
              "    (() => {\n",
              "      let quickchartButtonEl =\n",
              "        document.querySelector('#df-2a1843af-7ceb-468b-b31c-e5a43421c7b5 button');\n",
              "      quickchartButtonEl.style.display =\n",
              "        google.colab.kernel.accessAllowed ? 'block' : 'none';\n",
              "    })();\n",
              "  </script>\n",
              "</div>\n",
              "\n",
              "    </div>\n",
              "  </div>\n"
            ],
            "application/vnd.google.colaboratory.intrinsic+json": {
              "type": "dataframe",
              "variable_name": "eda_df",
              "summary": "{\n  \"name\": \"eda_df\",\n  \"rows\": 1000,\n  \"fields\": [\n    {\n      \"column\": \"Customer_id\",\n      \"properties\": {\n        \"dtype\": \"string\",\n        \"num_unique_values\": 1000,\n        \"samples\": [\n          \"FhP30F\",\n          \"JG173m\",\n          \"IXlHei\"\n        ],\n        \"semantic_type\": \"\",\n        \"description\": \"\"\n      }\n    },\n    {\n      \"column\": \"Brand_name\",\n      \"properties\": {\n        \"dtype\": \"category\",\n        \"num_unique_values\": 6,\n        \"samples\": [\n          \"Apple\",\n          \"Xiaomi\",\n          \"Oneplus\"\n        ],\n        \"semantic_type\": \"\",\n        \"description\": \"\"\n      }\n    },\n    {\n      \"column\": \"Screen_size\",\n      \"properties\": {\n        \"dtype\": \"number\",\n        \"std\": 1.1688160338226548,\n        \"min\": 4.0,\n        \"max\": 8.0,\n        \"num_unique_values\": 41,\n        \"samples\": [\n          5.0,\n          6.8,\n          7.3\n        ],\n        \"semantic_type\": \"\",\n        \"description\": \"\"\n      }\n    },\n    {\n      \"column\": \"Battery_capacity\",\n      \"properties\": {\n        \"dtype\": \"number\",\n        \"std\": 1753,\n        \"min\": 6000,\n        \"max\": 12000,\n        \"num_unique_values\": 41,\n        \"samples\": [\n          7500,\n          10200,\n          10950\n        ],\n        \"semantic_type\": \"\",\n        \"description\": \"\"\n      }\n    },\n    {\n      \"column\": \"Ram_size\",\n      \"properties\": {\n        \"dtype\": \"number\",\n        \"std\": 1,\n        \"min\": 6,\n        \"max\": 12,\n        \"num_unique_values\": 7,\n        \"samples\": [\n          12,\n          9,\n          10\n        ],\n        \"semantic_type\": \"\",\n        \"description\": \"\"\n      }\n    },\n    {\n      \"column\": \"Storage_capacity\",\n      \"properties\": {\n        \"dtype\": \"number\",\n        \"std\": 181,\n        \"min\": 32,\n        \"max\": 512,\n        \"num_unique_values\": 5,\n        \"samples\": [\n          32,\n          128,\n          250\n        ],\n        \"semantic_type\": \"\",\n        \"description\": \"\"\n      }\n    },\n    {\n      \"column\": \"Purchase_date\",\n      \"properties\": {\n        \"dtype\": \"object\",\n        \"num_unique_values\": 445,\n        \"samples\": [\n          \"2023/10/25\",\n          \"2024/02/06\",\n          \"2024/02/17\"\n        ],\n        \"semantic_type\": \"\",\n        \"description\": \"\"\n      }\n    },\n    {\n      \"column\": \"Price\",\n      \"properties\": {\n        \"dtype\": \"number\",\n        \"std\": 272,\n        \"min\": 60,\n        \"max\": 792,\n        \"num_unique_values\": 64,\n        \"samples\": [\n          113,\n          216,\n          791\n        ],\n        \"semantic_type\": \"\",\n        \"description\": \"\"\n      }\n    },\n    {\n      \"column\": \"Payment_type\",\n      \"properties\": {\n        \"dtype\": \"category\",\n        \"num_unique_values\": 4,\n        \"samples\": [\n          \"credit card\",\n          \"debit card\",\n          \"paypal\"\n        ],\n        \"semantic_type\": \"\",\n        \"description\": \"\"\n      }\n    },\n    {\n      \"column\": \"Units_sold\",\n      \"properties\": {\n        \"dtype\": \"number\",\n        \"std\": 1160,\n        \"min\": 1009,\n        \"max\": 4999,\n        \"num_unique_values\": 904,\n        \"samples\": [\n          1704,\n          3772,\n          3419\n        ],\n        \"semantic_type\": \"\",\n        \"description\": \"\"\n      }\n    }\n  ]\n}"
            }
          },
          "metadata": {},
          "execution_count": 6
        }
      ]
    },
    {
      "cell_type": "code",
      "source": [
        "##Checking Data Types\n",
        "eda_df.info()"
      ],
      "metadata": {
        "id": "euXnReXu3U2f",
        "colab": {
          "base_uri": "https://localhost:8080/"
        },
        "outputId": "b4b161f5-f482-4def-a0c1-3eaa5700048a"
      },
      "execution_count": 7,
      "outputs": [
        {
          "output_type": "stream",
          "name": "stdout",
          "text": [
            "<class 'pandas.core.frame.DataFrame'>\n",
            "RangeIndex: 1000 entries, 0 to 999\n",
            "Data columns (total 10 columns):\n",
            " #   Column            Non-Null Count  Dtype  \n",
            "---  ------            --------------  -----  \n",
            " 0   Customer_id       1000 non-null   object \n",
            " 1   Brand_name        1000 non-null   object \n",
            " 2   Screen_size       1000 non-null   float64\n",
            " 3   Battery_capacity  1000 non-null   int64  \n",
            " 4   Ram_size          1000 non-null   int64  \n",
            " 5   Storage_capacity  1000 non-null   int64  \n",
            " 6   Purchase_date     1000 non-null   object \n",
            " 7   Price             1000 non-null   int64  \n",
            " 8   Payment_type      1000 non-null   object \n",
            " 9   Units_sold        1000 non-null   int64  \n",
            "dtypes: float64(1), int64(5), object(4)\n",
            "memory usage: 78.2+ KB\n"
          ]
        }
      ]
    },
    {
      "cell_type": "code",
      "source": [
        " ##Extracting values\n",
        " eda_df['Purchase_date']= pd.to_datetime(eda_df['Purchase_date'],errors='coerce') ##Converting purchase date to date-time format\n",
        " eda_df['month']=eda_df['Purchase_date'].dt.month ##Extraction of month feature\n",
        " eda_df['year']=eda_df['Purchase_date'].dt.year ##Extraction of year feature"
      ],
      "metadata": {
        "id": "WJdkdM353U2f"
      },
      "execution_count": 8,
      "outputs": []
    },
    {
      "cell_type": "code",
      "source": [
        "##Visualisation\n",
        "eda_df.head()"
      ],
      "metadata": {
        "id": "-_bpNAjF3U2g",
        "colab": {
          "base_uri": "https://localhost:8080/",
          "height": 206
        },
        "outputId": "54741988-1caf-452c-c409-1ab29a86469c"
      },
      "execution_count": 9,
      "outputs": [
        {
          "output_type": "execute_result",
          "data": {
            "text/plain": [
              "  Customer_id Brand_name  Screen_size  Battery_capacity  Ram_size  \\\n",
              "0      4382JV      Apple          7.5             11250        12   \n",
              "1      tCTYRh     Xiaomi          7.7             11550        12   \n",
              "2      Mx77Cv     Xiaomi          6.0              9000         9   \n",
              "3      2J38jY    Samsung          5.5              8250         9   \n",
              "4      r2Hh39       Oppo          4.9              7350         8   \n",
              "\n",
              "   Storage_capacity Purchase_date  Price Payment_type  Units_sold  month  year  \n",
              "0               512    2023-09-23    791       paypal        3532      9  2023  \n",
              "1               512    2023-06-13    792  credit card        3400      6  2023  \n",
              "2                32    2024-04-25     66         cash        1638      4  2024  \n",
              "3               250    2023-03-08    392       paypal        1176      3  2023  \n",
              "4                64    2023-03-31    111  credit card        2802      3  2023  "
            ],
            "text/html": [
              "\n",
              "  <div id=\"df-645df717-8a41-4e9a-b132-ebb01d06b8c4\" class=\"colab-df-container\">\n",
              "    <div>\n",
              "<style scoped>\n",
              "    .dataframe tbody tr th:only-of-type {\n",
              "        vertical-align: middle;\n",
              "    }\n",
              "\n",
              "    .dataframe tbody tr th {\n",
              "        vertical-align: top;\n",
              "    }\n",
              "\n",
              "    .dataframe thead th {\n",
              "        text-align: right;\n",
              "    }\n",
              "</style>\n",
              "<table border=\"1\" class=\"dataframe\">\n",
              "  <thead>\n",
              "    <tr style=\"text-align: right;\">\n",
              "      <th></th>\n",
              "      <th>Customer_id</th>\n",
              "      <th>Brand_name</th>\n",
              "      <th>Screen_size</th>\n",
              "      <th>Battery_capacity</th>\n",
              "      <th>Ram_size</th>\n",
              "      <th>Storage_capacity</th>\n",
              "      <th>Purchase_date</th>\n",
              "      <th>Price</th>\n",
              "      <th>Payment_type</th>\n",
              "      <th>Units_sold</th>\n",
              "      <th>month</th>\n",
              "      <th>year</th>\n",
              "    </tr>\n",
              "  </thead>\n",
              "  <tbody>\n",
              "    <tr>\n",
              "      <th>0</th>\n",
              "      <td>4382JV</td>\n",
              "      <td>Apple</td>\n",
              "      <td>7.5</td>\n",
              "      <td>11250</td>\n",
              "      <td>12</td>\n",
              "      <td>512</td>\n",
              "      <td>2023-09-23</td>\n",
              "      <td>791</td>\n",
              "      <td>paypal</td>\n",
              "      <td>3532</td>\n",
              "      <td>9</td>\n",
              "      <td>2023</td>\n",
              "    </tr>\n",
              "    <tr>\n",
              "      <th>1</th>\n",
              "      <td>tCTYRh</td>\n",
              "      <td>Xiaomi</td>\n",
              "      <td>7.7</td>\n",
              "      <td>11550</td>\n",
              "      <td>12</td>\n",
              "      <td>512</td>\n",
              "      <td>2023-06-13</td>\n",
              "      <td>792</td>\n",
              "      <td>credit card</td>\n",
              "      <td>3400</td>\n",
              "      <td>6</td>\n",
              "      <td>2023</td>\n",
              "    </tr>\n",
              "    <tr>\n",
              "      <th>2</th>\n",
              "      <td>Mx77Cv</td>\n",
              "      <td>Xiaomi</td>\n",
              "      <td>6.0</td>\n",
              "      <td>9000</td>\n",
              "      <td>9</td>\n",
              "      <td>32</td>\n",
              "      <td>2024-04-25</td>\n",
              "      <td>66</td>\n",
              "      <td>cash</td>\n",
              "      <td>1638</td>\n",
              "      <td>4</td>\n",
              "      <td>2024</td>\n",
              "    </tr>\n",
              "    <tr>\n",
              "      <th>3</th>\n",
              "      <td>2J38jY</td>\n",
              "      <td>Samsung</td>\n",
              "      <td>5.5</td>\n",
              "      <td>8250</td>\n",
              "      <td>9</td>\n",
              "      <td>250</td>\n",
              "      <td>2023-03-08</td>\n",
              "      <td>392</td>\n",
              "      <td>paypal</td>\n",
              "      <td>1176</td>\n",
              "      <td>3</td>\n",
              "      <td>2023</td>\n",
              "    </tr>\n",
              "    <tr>\n",
              "      <th>4</th>\n",
              "      <td>r2Hh39</td>\n",
              "      <td>Oppo</td>\n",
              "      <td>4.9</td>\n",
              "      <td>7350</td>\n",
              "      <td>8</td>\n",
              "      <td>64</td>\n",
              "      <td>2023-03-31</td>\n",
              "      <td>111</td>\n",
              "      <td>credit card</td>\n",
              "      <td>2802</td>\n",
              "      <td>3</td>\n",
              "      <td>2023</td>\n",
              "    </tr>\n",
              "  </tbody>\n",
              "</table>\n",
              "</div>\n",
              "    <div class=\"colab-df-buttons\">\n",
              "\n",
              "  <div class=\"colab-df-container\">\n",
              "    <button class=\"colab-df-convert\" onclick=\"convertToInteractive('df-645df717-8a41-4e9a-b132-ebb01d06b8c4')\"\n",
              "            title=\"Convert this dataframe to an interactive table.\"\n",
              "            style=\"display:none;\">\n",
              "\n",
              "  <svg xmlns=\"http://www.w3.org/2000/svg\" height=\"24px\" viewBox=\"0 -960 960 960\">\n",
              "    <path d=\"M120-120v-720h720v720H120Zm60-500h600v-160H180v160Zm220 220h160v-160H400v160Zm0 220h160v-160H400v160ZM180-400h160v-160H180v160Zm440 0h160v-160H620v160ZM180-180h160v-160H180v160Zm440 0h160v-160H620v160Z\"/>\n",
              "  </svg>\n",
              "    </button>\n",
              "\n",
              "  <style>\n",
              "    .colab-df-container {\n",
              "      display:flex;\n",
              "      gap: 12px;\n",
              "    }\n",
              "\n",
              "    .colab-df-convert {\n",
              "      background-color: #E8F0FE;\n",
              "      border: none;\n",
              "      border-radius: 50%;\n",
              "      cursor: pointer;\n",
              "      display: none;\n",
              "      fill: #1967D2;\n",
              "      height: 32px;\n",
              "      padding: 0 0 0 0;\n",
              "      width: 32px;\n",
              "    }\n",
              "\n",
              "    .colab-df-convert:hover {\n",
              "      background-color: #E2EBFA;\n",
              "      box-shadow: 0px 1px 2px rgba(60, 64, 67, 0.3), 0px 1px 3px 1px rgba(60, 64, 67, 0.15);\n",
              "      fill: #174EA6;\n",
              "    }\n",
              "\n",
              "    .colab-df-buttons div {\n",
              "      margin-bottom: 4px;\n",
              "    }\n",
              "\n",
              "    [theme=dark] .colab-df-convert {\n",
              "      background-color: #3B4455;\n",
              "      fill: #D2E3FC;\n",
              "    }\n",
              "\n",
              "    [theme=dark] .colab-df-convert:hover {\n",
              "      background-color: #434B5C;\n",
              "      box-shadow: 0px 1px 3px 1px rgba(0, 0, 0, 0.15);\n",
              "      filter: drop-shadow(0px 1px 2px rgba(0, 0, 0, 0.3));\n",
              "      fill: #FFFFFF;\n",
              "    }\n",
              "  </style>\n",
              "\n",
              "    <script>\n",
              "      const buttonEl =\n",
              "        document.querySelector('#df-645df717-8a41-4e9a-b132-ebb01d06b8c4 button.colab-df-convert');\n",
              "      buttonEl.style.display =\n",
              "        google.colab.kernel.accessAllowed ? 'block' : 'none';\n",
              "\n",
              "      async function convertToInteractive(key) {\n",
              "        const element = document.querySelector('#df-645df717-8a41-4e9a-b132-ebb01d06b8c4');\n",
              "        const dataTable =\n",
              "          await google.colab.kernel.invokeFunction('convertToInteractive',\n",
              "                                                    [key], {});\n",
              "        if (!dataTable) return;\n",
              "\n",
              "        const docLinkHtml = 'Like what you see? Visit the ' +\n",
              "          '<a target=\"_blank\" href=https://colab.research.google.com/notebooks/data_table.ipynb>data table notebook</a>'\n",
              "          + ' to learn more about interactive tables.';\n",
              "        element.innerHTML = '';\n",
              "        dataTable['output_type'] = 'display_data';\n",
              "        await google.colab.output.renderOutput(dataTable, element);\n",
              "        const docLink = document.createElement('div');\n",
              "        docLink.innerHTML = docLinkHtml;\n",
              "        element.appendChild(docLink);\n",
              "      }\n",
              "    </script>\n",
              "  </div>\n",
              "\n",
              "\n",
              "<div id=\"df-7d8fd421-d478-4724-a82d-603b3101e1ee\">\n",
              "  <button class=\"colab-df-quickchart\" onclick=\"quickchart('df-7d8fd421-d478-4724-a82d-603b3101e1ee')\"\n",
              "            title=\"Suggest charts\"\n",
              "            style=\"display:none;\">\n",
              "\n",
              "<svg xmlns=\"http://www.w3.org/2000/svg\" height=\"24px\"viewBox=\"0 0 24 24\"\n",
              "     width=\"24px\">\n",
              "    <g>\n",
              "        <path d=\"M19 3H5c-1.1 0-2 .9-2 2v14c0 1.1.9 2 2 2h14c1.1 0 2-.9 2-2V5c0-1.1-.9-2-2-2zM9 17H7v-7h2v7zm4 0h-2V7h2v10zm4 0h-2v-4h2v4z\"/>\n",
              "    </g>\n",
              "</svg>\n",
              "  </button>\n",
              "\n",
              "<style>\n",
              "  .colab-df-quickchart {\n",
              "      --bg-color: #E8F0FE;\n",
              "      --fill-color: #1967D2;\n",
              "      --hover-bg-color: #E2EBFA;\n",
              "      --hover-fill-color: #174EA6;\n",
              "      --disabled-fill-color: #AAA;\n",
              "      --disabled-bg-color: #DDD;\n",
              "  }\n",
              "\n",
              "  [theme=dark] .colab-df-quickchart {\n",
              "      --bg-color: #3B4455;\n",
              "      --fill-color: #D2E3FC;\n",
              "      --hover-bg-color: #434B5C;\n",
              "      --hover-fill-color: #FFFFFF;\n",
              "      --disabled-bg-color: #3B4455;\n",
              "      --disabled-fill-color: #666;\n",
              "  }\n",
              "\n",
              "  .colab-df-quickchart {\n",
              "    background-color: var(--bg-color);\n",
              "    border: none;\n",
              "    border-radius: 50%;\n",
              "    cursor: pointer;\n",
              "    display: none;\n",
              "    fill: var(--fill-color);\n",
              "    height: 32px;\n",
              "    padding: 0;\n",
              "    width: 32px;\n",
              "  }\n",
              "\n",
              "  .colab-df-quickchart:hover {\n",
              "    background-color: var(--hover-bg-color);\n",
              "    box-shadow: 0 1px 2px rgba(60, 64, 67, 0.3), 0 1px 3px 1px rgba(60, 64, 67, 0.15);\n",
              "    fill: var(--button-hover-fill-color);\n",
              "  }\n",
              "\n",
              "  .colab-df-quickchart-complete:disabled,\n",
              "  .colab-df-quickchart-complete:disabled:hover {\n",
              "    background-color: var(--disabled-bg-color);\n",
              "    fill: var(--disabled-fill-color);\n",
              "    box-shadow: none;\n",
              "  }\n",
              "\n",
              "  .colab-df-spinner {\n",
              "    border: 2px solid var(--fill-color);\n",
              "    border-color: transparent;\n",
              "    border-bottom-color: var(--fill-color);\n",
              "    animation:\n",
              "      spin 1s steps(1) infinite;\n",
              "  }\n",
              "\n",
              "  @keyframes spin {\n",
              "    0% {\n",
              "      border-color: transparent;\n",
              "      border-bottom-color: var(--fill-color);\n",
              "      border-left-color: var(--fill-color);\n",
              "    }\n",
              "    20% {\n",
              "      border-color: transparent;\n",
              "      border-left-color: var(--fill-color);\n",
              "      border-top-color: var(--fill-color);\n",
              "    }\n",
              "    30% {\n",
              "      border-color: transparent;\n",
              "      border-left-color: var(--fill-color);\n",
              "      border-top-color: var(--fill-color);\n",
              "      border-right-color: var(--fill-color);\n",
              "    }\n",
              "    40% {\n",
              "      border-color: transparent;\n",
              "      border-right-color: var(--fill-color);\n",
              "      border-top-color: var(--fill-color);\n",
              "    }\n",
              "    60% {\n",
              "      border-color: transparent;\n",
              "      border-right-color: var(--fill-color);\n",
              "    }\n",
              "    80% {\n",
              "      border-color: transparent;\n",
              "      border-right-color: var(--fill-color);\n",
              "      border-bottom-color: var(--fill-color);\n",
              "    }\n",
              "    90% {\n",
              "      border-color: transparent;\n",
              "      border-bottom-color: var(--fill-color);\n",
              "    }\n",
              "  }\n",
              "</style>\n",
              "\n",
              "  <script>\n",
              "    async function quickchart(key) {\n",
              "      const quickchartButtonEl =\n",
              "        document.querySelector('#' + key + ' button');\n",
              "      quickchartButtonEl.disabled = true;  // To prevent multiple clicks.\n",
              "      quickchartButtonEl.classList.add('colab-df-spinner');\n",
              "      try {\n",
              "        const charts = await google.colab.kernel.invokeFunction(\n",
              "            'suggestCharts', [key], {});\n",
              "      } catch (error) {\n",
              "        console.error('Error during call to suggestCharts:', error);\n",
              "      }\n",
              "      quickchartButtonEl.classList.remove('colab-df-spinner');\n",
              "      quickchartButtonEl.classList.add('colab-df-quickchart-complete');\n",
              "    }\n",
              "    (() => {\n",
              "      let quickchartButtonEl =\n",
              "        document.querySelector('#df-7d8fd421-d478-4724-a82d-603b3101e1ee button');\n",
              "      quickchartButtonEl.style.display =\n",
              "        google.colab.kernel.accessAllowed ? 'block' : 'none';\n",
              "    })();\n",
              "  </script>\n",
              "</div>\n",
              "\n",
              "    </div>\n",
              "  </div>\n"
            ],
            "application/vnd.google.colaboratory.intrinsic+json": {
              "type": "dataframe",
              "variable_name": "eda_df",
              "summary": "{\n  \"name\": \"eda_df\",\n  \"rows\": 1000,\n  \"fields\": [\n    {\n      \"column\": \"Customer_id\",\n      \"properties\": {\n        \"dtype\": \"string\",\n        \"num_unique_values\": 1000,\n        \"samples\": [\n          \"FhP30F\",\n          \"JG173m\",\n          \"IXlHei\"\n        ],\n        \"semantic_type\": \"\",\n        \"description\": \"\"\n      }\n    },\n    {\n      \"column\": \"Brand_name\",\n      \"properties\": {\n        \"dtype\": \"category\",\n        \"num_unique_values\": 6,\n        \"samples\": [\n          \"Apple\",\n          \"Xiaomi\",\n          \"Oneplus\"\n        ],\n        \"semantic_type\": \"\",\n        \"description\": \"\"\n      }\n    },\n    {\n      \"column\": \"Screen_size\",\n      \"properties\": {\n        \"dtype\": \"number\",\n        \"std\": 1.1688160338226548,\n        \"min\": 4.0,\n        \"max\": 8.0,\n        \"num_unique_values\": 41,\n        \"samples\": [\n          5.0,\n          6.8,\n          7.3\n        ],\n        \"semantic_type\": \"\",\n        \"description\": \"\"\n      }\n    },\n    {\n      \"column\": \"Battery_capacity\",\n      \"properties\": {\n        \"dtype\": \"number\",\n        \"std\": 1753,\n        \"min\": 6000,\n        \"max\": 12000,\n        \"num_unique_values\": 41,\n        \"samples\": [\n          7500,\n          10200,\n          10950\n        ],\n        \"semantic_type\": \"\",\n        \"description\": \"\"\n      }\n    },\n    {\n      \"column\": \"Ram_size\",\n      \"properties\": {\n        \"dtype\": \"number\",\n        \"std\": 1,\n        \"min\": 6,\n        \"max\": 12,\n        \"num_unique_values\": 7,\n        \"samples\": [\n          12,\n          9,\n          10\n        ],\n        \"semantic_type\": \"\",\n        \"description\": \"\"\n      }\n    },\n    {\n      \"column\": \"Storage_capacity\",\n      \"properties\": {\n        \"dtype\": \"number\",\n        \"std\": 181,\n        \"min\": 32,\n        \"max\": 512,\n        \"num_unique_values\": 5,\n        \"samples\": [\n          32,\n          128,\n          250\n        ],\n        \"semantic_type\": \"\",\n        \"description\": \"\"\n      }\n    },\n    {\n      \"column\": \"Purchase_date\",\n      \"properties\": {\n        \"dtype\": \"date\",\n        \"min\": \"2023-01-01 00:00:00\",\n        \"max\": \"2024-05-30 00:00:00\",\n        \"num_unique_values\": 445,\n        \"samples\": [\n          \"2023-10-25 00:00:00\",\n          \"2024-02-06 00:00:00\",\n          \"2024-02-17 00:00:00\"\n        ],\n        \"semantic_type\": \"\",\n        \"description\": \"\"\n      }\n    },\n    {\n      \"column\": \"Price\",\n      \"properties\": {\n        \"dtype\": \"number\",\n        \"std\": 272,\n        \"min\": 60,\n        \"max\": 792,\n        \"num_unique_values\": 64,\n        \"samples\": [\n          113,\n          216,\n          791\n        ],\n        \"semantic_type\": \"\",\n        \"description\": \"\"\n      }\n    },\n    {\n      \"column\": \"Payment_type\",\n      \"properties\": {\n        \"dtype\": \"category\",\n        \"num_unique_values\": 4,\n        \"samples\": [\n          \"credit card\",\n          \"debit card\",\n          \"paypal\"\n        ],\n        \"semantic_type\": \"\",\n        \"description\": \"\"\n      }\n    },\n    {\n      \"column\": \"Units_sold\",\n      \"properties\": {\n        \"dtype\": \"number\",\n        \"std\": 1160,\n        \"min\": 1009,\n        \"max\": 4999,\n        \"num_unique_values\": 904,\n        \"samples\": [\n          1704,\n          3772,\n          3419\n        ],\n        \"semantic_type\": \"\",\n        \"description\": \"\"\n      }\n    },\n    {\n      \"column\": \"month\",\n      \"properties\": {\n        \"dtype\": \"int32\",\n        \"num_unique_values\": 12,\n        \"samples\": [\n          11,\n          8,\n          9\n        ],\n        \"semantic_type\": \"\",\n        \"description\": \"\"\n      }\n    },\n    {\n      \"column\": \"year\",\n      \"properties\": {\n        \"dtype\": \"int32\",\n        \"num_unique_values\": 2,\n        \"samples\": [\n          2024,\n          2023\n        ],\n        \"semantic_type\": \"\",\n        \"description\": \"\"\n      }\n    }\n  ]\n}"
            }
          },
          "metadata": {},
          "execution_count": 9
        }
      ]
    },
    {
      "cell_type": "code",
      "source": [
        "##Plot/Analysis\n",
        "eda_df.describe().T"
      ],
      "metadata": {
        "id": "wBXHGXj63U2g",
        "colab": {
          "base_uri": "https://localhost:8080/",
          "height": 349
        },
        "outputId": "6cd82f98-ef36-40b2-b257-b21be859f2fc"
      },
      "execution_count": 10,
      "outputs": [
        {
          "output_type": "execute_result",
          "data": {
            "text/plain": [
              "                   count                           mean                  min  \\\n",
              "Screen_size       1000.0                         5.9539                  4.0   \n",
              "Battery_capacity  1000.0                        8930.85               6000.0   \n",
              "Ram_size          1000.0                          9.424                  6.0   \n",
              "Storage_capacity  1000.0                        290.726                 32.0   \n",
              "Purchase_date       1000  2023-09-16 04:50:52.800000256  2023-01-01 00:00:00   \n",
              "Price             1000.0                        454.462                 60.0   \n",
              "Units_sold        1000.0                       3013.047               1009.0   \n",
              "month             1000.0                          5.474                  1.0   \n",
              "year              1000.0                       2023.295               2023.0   \n",
              "\n",
              "                                  25%                  50%  \\\n",
              "Screen_size                       4.9                  6.0   \n",
              "Battery_capacity               7350.0               9000.0   \n",
              "Ram_size                          8.0                  9.0   \n",
              "Storage_capacity                128.0                250.0   \n",
              "Purchase_date     2023-05-12 12:00:00  2023-09-13 00:00:00   \n",
              "Price                           210.0                394.0   \n",
              "Units_sold                     1977.0               3047.0   \n",
              "month                             3.0                  5.0   \n",
              "year                           2023.0               2023.0   \n",
              "\n",
              "                                  75%                  max          std  \n",
              "Screen_size                       7.0                  8.0     1.168816  \n",
              "Battery_capacity              10500.0              12000.0  1753.224051  \n",
              "Ram_size                         11.0                 12.0     1.747363  \n",
              "Storage_capacity                512.0                512.0   181.585115  \n",
              "Purchase_date     2024-01-20 18:00:00  2024-05-30 00:00:00          NaN  \n",
              "Price                           784.0                792.0   272.319971  \n",
              "Units_sold                    4004.25               4999.0  1160.241203  \n",
              "month                             8.0                 12.0     3.327822  \n",
              "year                           2024.0               2024.0     0.456271  "
            ],
            "text/html": [
              "\n",
              "  <div id=\"df-16e7a5f8-c21b-4a26-88b6-c7118cd4f62f\" class=\"colab-df-container\">\n",
              "    <div>\n",
              "<style scoped>\n",
              "    .dataframe tbody tr th:only-of-type {\n",
              "        vertical-align: middle;\n",
              "    }\n",
              "\n",
              "    .dataframe tbody tr th {\n",
              "        vertical-align: top;\n",
              "    }\n",
              "\n",
              "    .dataframe thead th {\n",
              "        text-align: right;\n",
              "    }\n",
              "</style>\n",
              "<table border=\"1\" class=\"dataframe\">\n",
              "  <thead>\n",
              "    <tr style=\"text-align: right;\">\n",
              "      <th></th>\n",
              "      <th>count</th>\n",
              "      <th>mean</th>\n",
              "      <th>min</th>\n",
              "      <th>25%</th>\n",
              "      <th>50%</th>\n",
              "      <th>75%</th>\n",
              "      <th>max</th>\n",
              "      <th>std</th>\n",
              "    </tr>\n",
              "  </thead>\n",
              "  <tbody>\n",
              "    <tr>\n",
              "      <th>Screen_size</th>\n",
              "      <td>1000.0</td>\n",
              "      <td>5.9539</td>\n",
              "      <td>4.0</td>\n",
              "      <td>4.9</td>\n",
              "      <td>6.0</td>\n",
              "      <td>7.0</td>\n",
              "      <td>8.0</td>\n",
              "      <td>1.168816</td>\n",
              "    </tr>\n",
              "    <tr>\n",
              "      <th>Battery_capacity</th>\n",
              "      <td>1000.0</td>\n",
              "      <td>8930.85</td>\n",
              "      <td>6000.0</td>\n",
              "      <td>7350.0</td>\n",
              "      <td>9000.0</td>\n",
              "      <td>10500.0</td>\n",
              "      <td>12000.0</td>\n",
              "      <td>1753.224051</td>\n",
              "    </tr>\n",
              "    <tr>\n",
              "      <th>Ram_size</th>\n",
              "      <td>1000.0</td>\n",
              "      <td>9.424</td>\n",
              "      <td>6.0</td>\n",
              "      <td>8.0</td>\n",
              "      <td>9.0</td>\n",
              "      <td>11.0</td>\n",
              "      <td>12.0</td>\n",
              "      <td>1.747363</td>\n",
              "    </tr>\n",
              "    <tr>\n",
              "      <th>Storage_capacity</th>\n",
              "      <td>1000.0</td>\n",
              "      <td>290.726</td>\n",
              "      <td>32.0</td>\n",
              "      <td>128.0</td>\n",
              "      <td>250.0</td>\n",
              "      <td>512.0</td>\n",
              "      <td>512.0</td>\n",
              "      <td>181.585115</td>\n",
              "    </tr>\n",
              "    <tr>\n",
              "      <th>Purchase_date</th>\n",
              "      <td>1000</td>\n",
              "      <td>2023-09-16 04:50:52.800000256</td>\n",
              "      <td>2023-01-01 00:00:00</td>\n",
              "      <td>2023-05-12 12:00:00</td>\n",
              "      <td>2023-09-13 00:00:00</td>\n",
              "      <td>2024-01-20 18:00:00</td>\n",
              "      <td>2024-05-30 00:00:00</td>\n",
              "      <td>NaN</td>\n",
              "    </tr>\n",
              "    <tr>\n",
              "      <th>Price</th>\n",
              "      <td>1000.0</td>\n",
              "      <td>454.462</td>\n",
              "      <td>60.0</td>\n",
              "      <td>210.0</td>\n",
              "      <td>394.0</td>\n",
              "      <td>784.0</td>\n",
              "      <td>792.0</td>\n",
              "      <td>272.319971</td>\n",
              "    </tr>\n",
              "    <tr>\n",
              "      <th>Units_sold</th>\n",
              "      <td>1000.0</td>\n",
              "      <td>3013.047</td>\n",
              "      <td>1009.0</td>\n",
              "      <td>1977.0</td>\n",
              "      <td>3047.0</td>\n",
              "      <td>4004.25</td>\n",
              "      <td>4999.0</td>\n",
              "      <td>1160.241203</td>\n",
              "    </tr>\n",
              "    <tr>\n",
              "      <th>month</th>\n",
              "      <td>1000.0</td>\n",
              "      <td>5.474</td>\n",
              "      <td>1.0</td>\n",
              "      <td>3.0</td>\n",
              "      <td>5.0</td>\n",
              "      <td>8.0</td>\n",
              "      <td>12.0</td>\n",
              "      <td>3.327822</td>\n",
              "    </tr>\n",
              "    <tr>\n",
              "      <th>year</th>\n",
              "      <td>1000.0</td>\n",
              "      <td>2023.295</td>\n",
              "      <td>2023.0</td>\n",
              "      <td>2023.0</td>\n",
              "      <td>2023.0</td>\n",
              "      <td>2024.0</td>\n",
              "      <td>2024.0</td>\n",
              "      <td>0.456271</td>\n",
              "    </tr>\n",
              "  </tbody>\n",
              "</table>\n",
              "</div>\n",
              "    <div class=\"colab-df-buttons\">\n",
              "\n",
              "  <div class=\"colab-df-container\">\n",
              "    <button class=\"colab-df-convert\" onclick=\"convertToInteractive('df-16e7a5f8-c21b-4a26-88b6-c7118cd4f62f')\"\n",
              "            title=\"Convert this dataframe to an interactive table.\"\n",
              "            style=\"display:none;\">\n",
              "\n",
              "  <svg xmlns=\"http://www.w3.org/2000/svg\" height=\"24px\" viewBox=\"0 -960 960 960\">\n",
              "    <path d=\"M120-120v-720h720v720H120Zm60-500h600v-160H180v160Zm220 220h160v-160H400v160Zm0 220h160v-160H400v160ZM180-400h160v-160H180v160Zm440 0h160v-160H620v160ZM180-180h160v-160H180v160Zm440 0h160v-160H620v160Z\"/>\n",
              "  </svg>\n",
              "    </button>\n",
              "\n",
              "  <style>\n",
              "    .colab-df-container {\n",
              "      display:flex;\n",
              "      gap: 12px;\n",
              "    }\n",
              "\n",
              "    .colab-df-convert {\n",
              "      background-color: #E8F0FE;\n",
              "      border: none;\n",
              "      border-radius: 50%;\n",
              "      cursor: pointer;\n",
              "      display: none;\n",
              "      fill: #1967D2;\n",
              "      height: 32px;\n",
              "      padding: 0 0 0 0;\n",
              "      width: 32px;\n",
              "    }\n",
              "\n",
              "    .colab-df-convert:hover {\n",
              "      background-color: #E2EBFA;\n",
              "      box-shadow: 0px 1px 2px rgba(60, 64, 67, 0.3), 0px 1px 3px 1px rgba(60, 64, 67, 0.15);\n",
              "      fill: #174EA6;\n",
              "    }\n",
              "\n",
              "    .colab-df-buttons div {\n",
              "      margin-bottom: 4px;\n",
              "    }\n",
              "\n",
              "    [theme=dark] .colab-df-convert {\n",
              "      background-color: #3B4455;\n",
              "      fill: #D2E3FC;\n",
              "    }\n",
              "\n",
              "    [theme=dark] .colab-df-convert:hover {\n",
              "      background-color: #434B5C;\n",
              "      box-shadow: 0px 1px 3px 1px rgba(0, 0, 0, 0.15);\n",
              "      filter: drop-shadow(0px 1px 2px rgba(0, 0, 0, 0.3));\n",
              "      fill: #FFFFFF;\n",
              "    }\n",
              "  </style>\n",
              "\n",
              "    <script>\n",
              "      const buttonEl =\n",
              "        document.querySelector('#df-16e7a5f8-c21b-4a26-88b6-c7118cd4f62f button.colab-df-convert');\n",
              "      buttonEl.style.display =\n",
              "        google.colab.kernel.accessAllowed ? 'block' : 'none';\n",
              "\n",
              "      async function convertToInteractive(key) {\n",
              "        const element = document.querySelector('#df-16e7a5f8-c21b-4a26-88b6-c7118cd4f62f');\n",
              "        const dataTable =\n",
              "          await google.colab.kernel.invokeFunction('convertToInteractive',\n",
              "                                                    [key], {});\n",
              "        if (!dataTable) return;\n",
              "\n",
              "        const docLinkHtml = 'Like what you see? Visit the ' +\n",
              "          '<a target=\"_blank\" href=https://colab.research.google.com/notebooks/data_table.ipynb>data table notebook</a>'\n",
              "          + ' to learn more about interactive tables.';\n",
              "        element.innerHTML = '';\n",
              "        dataTable['output_type'] = 'display_data';\n",
              "        await google.colab.output.renderOutput(dataTable, element);\n",
              "        const docLink = document.createElement('div');\n",
              "        docLink.innerHTML = docLinkHtml;\n",
              "        element.appendChild(docLink);\n",
              "      }\n",
              "    </script>\n",
              "  </div>\n",
              "\n",
              "\n",
              "<div id=\"df-dcdbb638-b8d0-4f1e-ab7b-0c1362dc92aa\">\n",
              "  <button class=\"colab-df-quickchart\" onclick=\"quickchart('df-dcdbb638-b8d0-4f1e-ab7b-0c1362dc92aa')\"\n",
              "            title=\"Suggest charts\"\n",
              "            style=\"display:none;\">\n",
              "\n",
              "<svg xmlns=\"http://www.w3.org/2000/svg\" height=\"24px\"viewBox=\"0 0 24 24\"\n",
              "     width=\"24px\">\n",
              "    <g>\n",
              "        <path d=\"M19 3H5c-1.1 0-2 .9-2 2v14c0 1.1.9 2 2 2h14c1.1 0 2-.9 2-2V5c0-1.1-.9-2-2-2zM9 17H7v-7h2v7zm4 0h-2V7h2v10zm4 0h-2v-4h2v4z\"/>\n",
              "    </g>\n",
              "</svg>\n",
              "  </button>\n",
              "\n",
              "<style>\n",
              "  .colab-df-quickchart {\n",
              "      --bg-color: #E8F0FE;\n",
              "      --fill-color: #1967D2;\n",
              "      --hover-bg-color: #E2EBFA;\n",
              "      --hover-fill-color: #174EA6;\n",
              "      --disabled-fill-color: #AAA;\n",
              "      --disabled-bg-color: #DDD;\n",
              "  }\n",
              "\n",
              "  [theme=dark] .colab-df-quickchart {\n",
              "      --bg-color: #3B4455;\n",
              "      --fill-color: #D2E3FC;\n",
              "      --hover-bg-color: #434B5C;\n",
              "      --hover-fill-color: #FFFFFF;\n",
              "      --disabled-bg-color: #3B4455;\n",
              "      --disabled-fill-color: #666;\n",
              "  }\n",
              "\n",
              "  .colab-df-quickchart {\n",
              "    background-color: var(--bg-color);\n",
              "    border: none;\n",
              "    border-radius: 50%;\n",
              "    cursor: pointer;\n",
              "    display: none;\n",
              "    fill: var(--fill-color);\n",
              "    height: 32px;\n",
              "    padding: 0;\n",
              "    width: 32px;\n",
              "  }\n",
              "\n",
              "  .colab-df-quickchart:hover {\n",
              "    background-color: var(--hover-bg-color);\n",
              "    box-shadow: 0 1px 2px rgba(60, 64, 67, 0.3), 0 1px 3px 1px rgba(60, 64, 67, 0.15);\n",
              "    fill: var(--button-hover-fill-color);\n",
              "  }\n",
              "\n",
              "  .colab-df-quickchart-complete:disabled,\n",
              "  .colab-df-quickchart-complete:disabled:hover {\n",
              "    background-color: var(--disabled-bg-color);\n",
              "    fill: var(--disabled-fill-color);\n",
              "    box-shadow: none;\n",
              "  }\n",
              "\n",
              "  .colab-df-spinner {\n",
              "    border: 2px solid var(--fill-color);\n",
              "    border-color: transparent;\n",
              "    border-bottom-color: var(--fill-color);\n",
              "    animation:\n",
              "      spin 1s steps(1) infinite;\n",
              "  }\n",
              "\n",
              "  @keyframes spin {\n",
              "    0% {\n",
              "      border-color: transparent;\n",
              "      border-bottom-color: var(--fill-color);\n",
              "      border-left-color: var(--fill-color);\n",
              "    }\n",
              "    20% {\n",
              "      border-color: transparent;\n",
              "      border-left-color: var(--fill-color);\n",
              "      border-top-color: var(--fill-color);\n",
              "    }\n",
              "    30% {\n",
              "      border-color: transparent;\n",
              "      border-left-color: var(--fill-color);\n",
              "      border-top-color: var(--fill-color);\n",
              "      border-right-color: var(--fill-color);\n",
              "    }\n",
              "    40% {\n",
              "      border-color: transparent;\n",
              "      border-right-color: var(--fill-color);\n",
              "      border-top-color: var(--fill-color);\n",
              "    }\n",
              "    60% {\n",
              "      border-color: transparent;\n",
              "      border-right-color: var(--fill-color);\n",
              "    }\n",
              "    80% {\n",
              "      border-color: transparent;\n",
              "      border-right-color: var(--fill-color);\n",
              "      border-bottom-color: var(--fill-color);\n",
              "    }\n",
              "    90% {\n",
              "      border-color: transparent;\n",
              "      border-bottom-color: var(--fill-color);\n",
              "    }\n",
              "  }\n",
              "</style>\n",
              "\n",
              "  <script>\n",
              "    async function quickchart(key) {\n",
              "      const quickchartButtonEl =\n",
              "        document.querySelector('#' + key + ' button');\n",
              "      quickchartButtonEl.disabled = true;  // To prevent multiple clicks.\n",
              "      quickchartButtonEl.classList.add('colab-df-spinner');\n",
              "      try {\n",
              "        const charts = await google.colab.kernel.invokeFunction(\n",
              "            'suggestCharts', [key], {});\n",
              "      } catch (error) {\n",
              "        console.error('Error during call to suggestCharts:', error);\n",
              "      }\n",
              "      quickchartButtonEl.classList.remove('colab-df-spinner');\n",
              "      quickchartButtonEl.classList.add('colab-df-quickchart-complete');\n",
              "    }\n",
              "    (() => {\n",
              "      let quickchartButtonEl =\n",
              "        document.querySelector('#df-dcdbb638-b8d0-4f1e-ab7b-0c1362dc92aa button');\n",
              "      quickchartButtonEl.style.display =\n",
              "        google.colab.kernel.accessAllowed ? 'block' : 'none';\n",
              "    })();\n",
              "  </script>\n",
              "</div>\n",
              "\n",
              "    </div>\n",
              "  </div>\n"
            ],
            "application/vnd.google.colaboratory.intrinsic+json": {
              "type": "dataframe",
              "summary": "{\n  \"name\": \"eda_df\",\n  \"rows\": 9,\n  \"fields\": [\n    {\n      \"column\": \"count\",\n      \"properties\": {\n        \"dtype\": \"date\",\n        \"min\": 1000.0,\n        \"max\": 1000.0,\n        \"num_unique_values\": 1,\n        \"samples\": [\n          1000.0\n        ],\n        \"semantic_type\": \"\",\n        \"description\": \"\"\n      }\n    },\n    {\n      \"column\": \"mean\",\n      \"properties\": {\n        \"dtype\": \"date\",\n        \"min\": \"1970-01-01 00:00:00.000000005\",\n        \"max\": \"2023-09-16 04:50:52.800000256\",\n        \"num_unique_values\": 9,\n        \"samples\": [\n          5.474\n        ],\n        \"semantic_type\": \"\",\n        \"description\": \"\"\n      }\n    },\n    {\n      \"column\": \"min\",\n      \"properties\": {\n        \"dtype\": \"date\",\n        \"min\": \"1970-01-01 00:00:00.000000001\",\n        \"max\": \"2023-01-01 00:00:00\",\n        \"num_unique_values\": 9,\n        \"samples\": [\n          1.0\n        ],\n        \"semantic_type\": \"\",\n        \"description\": \"\"\n      }\n    },\n    {\n      \"column\": \"25%\",\n      \"properties\": {\n        \"dtype\": \"date\",\n        \"min\": \"1970-01-01 00:00:00.000000003\",\n        \"max\": \"2023-05-12 12:00:00\",\n        \"num_unique_values\": 9,\n        \"samples\": [\n          3.0\n        ],\n        \"semantic_type\": \"\",\n        \"description\": \"\"\n      }\n    },\n    {\n      \"column\": \"50%\",\n      \"properties\": {\n        \"dtype\": \"date\",\n        \"min\": \"1970-01-01 00:00:00.000000005\",\n        \"max\": \"2023-09-13 00:00:00\",\n        \"num_unique_values\": 9,\n        \"samples\": [\n          5.0\n        ],\n        \"semantic_type\": \"\",\n        \"description\": \"\"\n      }\n    },\n    {\n      \"column\": \"75%\",\n      \"properties\": {\n        \"dtype\": \"date\",\n        \"min\": \"1970-01-01 00:00:00.000000007\",\n        \"max\": \"2024-01-20 18:00:00\",\n        \"num_unique_values\": 9,\n        \"samples\": [\n          8.0\n        ],\n        \"semantic_type\": \"\",\n        \"description\": \"\"\n      }\n    },\n    {\n      \"column\": \"max\",\n      \"properties\": {\n        \"dtype\": \"date\",\n        \"min\": \"1970-01-01 00:00:00.000000008\",\n        \"max\": \"2024-05-30 00:00:00\",\n        \"num_unique_values\": 8,\n        \"samples\": [\n          12000.0\n        ],\n        \"semantic_type\": \"\",\n        \"description\": \"\"\n      }\n    },\n    {\n      \"column\": \"std\",\n      \"properties\": {\n        \"dtype\": \"date\",\n        \"min\": 0.45627095369219284,\n        \"max\": 1753.2240507339818,\n        \"num_unique_values\": 8,\n        \"samples\": [\n          1753.2240507339818\n        ],\n        \"semantic_type\": \"\",\n        \"description\": \"\"\n      }\n    }\n  ]\n}"
            }
          },
          "metadata": {},
          "execution_count": 10
        }
      ]
    },
    {
      "cell_type": "code",
      "source": [
        "##Checking fpr null values\n",
        "eda_df.isnull().sum()"
      ],
      "metadata": {
        "id": "lFyQGUs13U2g",
        "colab": {
          "base_uri": "https://localhost:8080/",
          "height": 460
        },
        "outputId": "9497cba9-0205-4c35-9daf-c116632e8369"
      },
      "execution_count": 11,
      "outputs": [
        {
          "output_type": "execute_result",
          "data": {
            "text/plain": [
              "Customer_id         0\n",
              "Brand_name          0\n",
              "Screen_size         0\n",
              "Battery_capacity    0\n",
              "Ram_size            0\n",
              "Storage_capacity    0\n",
              "Purchase_date       0\n",
              "Price               0\n",
              "Payment_type        0\n",
              "Units_sold          0\n",
              "month               0\n",
              "year                0\n",
              "dtype: int64"
            ],
            "text/html": [
              "<table border=\"1\" class=\"dataframe\">\n",
              "  <thead>\n",
              "    <tr style=\"text-align: right;\">\n",
              "      <th></th>\n",
              "      <th>0</th>\n",
              "    </tr>\n",
              "  </thead>\n",
              "  <tbody>\n",
              "    <tr>\n",
              "      <th>Customer_id</th>\n",
              "      <td>0</td>\n",
              "    </tr>\n",
              "    <tr>\n",
              "      <th>Brand_name</th>\n",
              "      <td>0</td>\n",
              "    </tr>\n",
              "    <tr>\n",
              "      <th>Screen_size</th>\n",
              "      <td>0</td>\n",
              "    </tr>\n",
              "    <tr>\n",
              "      <th>Battery_capacity</th>\n",
              "      <td>0</td>\n",
              "    </tr>\n",
              "    <tr>\n",
              "      <th>Ram_size</th>\n",
              "      <td>0</td>\n",
              "    </tr>\n",
              "    <tr>\n",
              "      <th>Storage_capacity</th>\n",
              "      <td>0</td>\n",
              "    </tr>\n",
              "    <tr>\n",
              "      <th>Purchase_date</th>\n",
              "      <td>0</td>\n",
              "    </tr>\n",
              "    <tr>\n",
              "      <th>Price</th>\n",
              "      <td>0</td>\n",
              "    </tr>\n",
              "    <tr>\n",
              "      <th>Payment_type</th>\n",
              "      <td>0</td>\n",
              "    </tr>\n",
              "    <tr>\n",
              "      <th>Units_sold</th>\n",
              "      <td>0</td>\n",
              "    </tr>\n",
              "    <tr>\n",
              "      <th>month</th>\n",
              "      <td>0</td>\n",
              "    </tr>\n",
              "    <tr>\n",
              "      <th>year</th>\n",
              "      <td>0</td>\n",
              "    </tr>\n",
              "  </tbody>\n",
              "</table><br><label><b>dtype:</b> int64</label>"
            ]
          },
          "metadata": {},
          "execution_count": 11
        }
      ]
    },
    {
      "cell_type": "code",
      "source": [
        "sns.histplot(eda_df['Screen_size']) ##Checking for screen size\n",
        "##From below analysis we can observe that 4.0 and 7.5 are the most preffered screen size"
      ],
      "metadata": {
        "id": "3P60LrH33U2h",
        "colab": {
          "base_uri": "https://localhost:8080/",
          "height": 467
        },
        "outputId": "6ba0ea87-23c0-4dd3-d3c9-98ff745bbcff"
      },
      "execution_count": 12,
      "outputs": [
        {
          "output_type": "execute_result",
          "data": {
            "text/plain": [
              "<Axes: xlabel='Screen_size', ylabel='Count'>"
            ]
          },
          "metadata": {},
          "execution_count": 12
        },
        {
          "output_type": "display_data",
          "data": {
            "text/plain": [
              "<Figure size 640x480 with 1 Axes>"
            ],
            "image/png": "[encoded data removed]"
          },
          "metadata": {}
        }
      ]
    },
    {
      "cell_type": "code",
      "source": [
        "sns.histplot(eda_df['Battery_capacity']) ##Checking for most commmon battery capacity\n",
        "##From below analysis, we can observe that 6000 mAH is the most common"
      ],
      "metadata": {
        "id": "VgmlSlVD3U2h",
        "colab": {
          "base_uri": "https://localhost:8080/",
          "height": 467
        },
        "outputId": "f9410143-fe33-41bb-d2f8-c82b46748b97"
      },
      "execution_count": 13,
      "outputs": [
        {
          "output_type": "execute_result",
          "data": {
            "text/plain": [
              "<Axes: xlabel='Battery_capacity', ylabel='Count'>"
            ]
          },
          "metadata": {},
          "execution_count": 13
        },
        {
          "output_type": "display_data",
          "data": {
            "text/plain": [
              "<Figure size 640x480 with 1 Axes>"
            ],
            "image/png": "[encoded data removed]"
          },
          "metadata": {}
        }
      ]
    },
    {
      "cell_type": "code",
      "source": [
        "sns.histplot(eda_df['Storage_capacity']) ##Checking for Storage space\n",
        "##From the below analysis we can observe that 500"
      ],
      "metadata": {
        "id": "5s8yS9Ox3U2h",
        "colab": {
          "base_uri": "https://localhost:8080/",
          "height": 467
        },
        "outputId": "145ed633-1449-44c9-ee1b-2b85ace77b82"
      },
      "execution_count": 14,
      "outputs": [
        {
          "output_type": "execute_result",
          "data": {
            "text/plain": [
              "<Axes: xlabel='Storage_capacity', ylabel='Count'>"
            ]
          },
          "metadata": {},
          "execution_count": 14
        },
        {
          "output_type": "display_data",
          "data": {
            "text/plain": [
              "<Figure size 640x480 with 1 Axes>"
            ],
            "image/png": "[encoded data removed]"
          },
          "metadata": {}
        }
      ]
    },
    {
      "cell_type": "code",
      "source": [
        "sns.histplot(eda_df['Ram_size']) ##Checking for Ram size\n",
        "##From the below analysis, we can observe that the most common RAM size is 8GB\n"
      ],
      "metadata": {
        "id": "VH0FgeG13U2i",
        "colab": {
          "base_uri": "https://localhost:8080/",
          "height": 469
        },
        "outputId": "65d6d980-9edd-4316-d312-c68a6d28c2a4"
      },
      "execution_count": 15,
      "outputs": [
        {
          "output_type": "execute_result",
          "data": {
            "text/plain": [
              "<Axes: xlabel='Ram_size', ylabel='Count'>"
            ]
          },
          "metadata": {},
          "execution_count": 15
        },
        {
          "output_type": "display_data",
          "data": {
            "text/plain": [
              "<Figure size 640x480 with 1 Axes>"
            ],
            "image/png": "[encoded data removed]"
          },
          "metadata": {}
        }
      ]
    },
    {
      "cell_type": "code",
      "source": [
        "sns.histplot(eda_df['Price'])\n",
        "##From the below analysis,we can observe 300-450 is the most preffered price range"
      ],
      "metadata": {
        "id": "454yBO-D3U2i",
        "colab": {
          "base_uri": "https://localhost:8080/",
          "height": 466
        },
        "outputId": "2bf48e56-4ac4-4517-ff36-c58b3c76971a"
      },
      "execution_count": 16,
      "outputs": [
        {
          "output_type": "execute_result",
          "data": {
            "text/plain": [
              "<Axes: xlabel='Price', ylabel='Count'>"
            ]
          },
          "metadata": {},
          "execution_count": 16
        },
        {
          "output_type": "display_data",
          "data": {
            "text/plain": [
              "<Figure size 640x480 with 1 Axes>"
            ],
            "image/png": "[encoded data removed]"
          },
          "metadata": {}
        }
      ]
    },
    {
      "cell_type": "code",
      "source": [
        "##Checking for the most preffered payment method\n",
        "eda_df.groupby('Payment_type').size().plot(kind='barh', color=sns.palettes.mpl_palette('Dark2'))\n",
        "##From the below analysis, we can observe that the most preffered payment method is via Credit Card"
      ],
      "metadata": {
        "id": "XwiUTIk73U2j",
        "colab": {
          "base_uri": "https://localhost:8080/",
          "height": 447
        },
        "outputId": "d3424bdf-ee74-4268-e930-e6093eb0f8ac"
      },
      "execution_count": 17,
      "outputs": [
        {
          "output_type": "execute_result",
          "data": {
            "text/plain": [
              "<Axes: ylabel='Payment_type'>"
            ]
          },
          "metadata": {},
          "execution_count": 17
        },
        {
          "output_type": "display_data",
          "data": {
            "text/plain": [
              "<Figure size 640x480 with 1 Axes>"
            ],
            "image/png": "[encoded data removed]"
          },
          "metadata": {}
        }
      ]
    },
    {
      "cell_type": "code",
      "source": [
        "##Checking for the most preffered brand\n",
        "eda_df.groupby('Brand_name').size().plot(kind='barh', color=sns.palettes.mpl_palette('Dark2'))\n",
        "##From the below analysis we can observe that the most popular brand in this case is Xiaomi"
      ],
      "metadata": {
        "id": "PjzpEPUr3U2j",
        "colab": {
          "base_uri": "https://localhost:8080/",
          "height": 447
        },
        "outputId": "48d1087a-6ce1-436c-c639-7d583cc7c628"
      },
      "execution_count": 18,
      "outputs": [
        {
          "output_type": "execute_result",
          "data": {
            "text/plain": [
              "<Axes: ylabel='Brand_name'>"
            ]
          },
          "metadata": {},
          "execution_count": 18
        },
        {
          "output_type": "display_data",
          "data": {
            "text/plain": [
              "<Figure size 640x480 with 1 Axes>"
            ],
            "image/png": "[encoded data removed]"
          },
          "metadata": {}
        }
      ]
    },
    {
      "cell_type": "code",
      "source": [
        "##Now checking for the month where most saled took place\n",
        "sns.barplot(x=eda_df['month'],y=eda_df['Units_sold'])\n",
        "##From the below analysis we can observe that the most sales took place in the month of July"
      ],
      "metadata": {
        "id": "79lCN6Co3U2j",
        "colab": {
          "base_uri": "https://localhost:8080/",
          "height": 466
        },
        "outputId": "2b0a1030-7591-4a28-deff-adae738143c4"
      },
      "execution_count": 19,
      "outputs": [
        {
          "output_type": "execute_result",
          "data": {
            "text/plain": [
              "<Axes: xlabel='month', ylabel='Units_sold'>"
            ]
          },
          "metadata": {},
          "execution_count": 19
        },
        {
          "output_type": "display_data",
          "data": {
            "text/plain": [
              "<Figure size 640x480 with 1 Axes>"
            ],
            "image/png": "[encoded data removed]"
          },
          "metadata": {}
        }
      ]
    },
    {
      "cell_type": "code",
      "source": [
        "##Comparing between units sold in 2023 and 2024\n",
        "sns.barplot(x=eda_df['year'], y=eda_df['Units_sold'])\n",
        "##From the below analysis, we can observe that 2023 has more sales as of now."
      ],
      "metadata": {
        "id": "JlrJfMHg3U2k",
        "colab": {
          "base_uri": "https://localhost:8080/",
          "height": 466
        },
        "outputId": "a5b5be82-f249-456b-f483-26e1d9ab73e2"
      },
      "execution_count": 20,
      "outputs": [
        {
          "output_type": "execute_result",
          "data": {
            "text/plain": [
              "<Axes: xlabel='year', ylabel='Units_sold'>"
            ]
          },
          "metadata": {},
          "execution_count": 20
        },
        {
          "output_type": "display_data",
          "data": {
            "text/plain": [
              "<Figure size 640x480 with 1 Axes>"
            ],
            "image/png": "[encoded data removed]"
          },
          "metadata": {}
        }
      ]
    },
    {
      "cell_type": "code",
      "source": [
        "##Checking the highest priced sale\n",
        "sns.barplot(x=eda_df['month'], y=eda_df['Price'])\n",
        "#From the below analysis, we can observe that the highest proced sale was made in the month of August\n"
      ],
      "metadata": {
        "id": "PZL2Zttq3U2k",
        "colab": {
          "base_uri": "https://localhost:8080/",
          "height": 466
        },
        "outputId": "ee48c82d-b5af-4473-ebf0-ce86af84785c"
      },
      "execution_count": 21,
      "outputs": [
        {
          "output_type": "execute_result",
          "data": {
            "text/plain": [
              "<Axes: xlabel='month', ylabel='Price'>"
            ]
          },
          "metadata": {},
          "execution_count": 21
        },
        {
          "output_type": "display_data",
          "data": {
            "text/plain": [
              "<Figure size 640x480 with 1 Axes>"
            ],
            "image/png": "[encoded data removed]"
          },
          "metadata": {}
        }
      ]
    },
    {
      "cell_type": "code",
      "source": [
        "##Checking for highest priced mobile\n",
        "sns.barplot(x=eda_df['Brand_name'],y=eda_df['Price'])\n",
        "##From the below analysis, we can observe that Oneplus has the highet priced mobile"
      ],
      "metadata": {
        "id": "05tvYfqS3U2k",
        "colab": {
          "base_uri": "https://localhost:8080/",
          "height": 467
        },
        "outputId": "f01dfd61-df84-4db1-921c-ce2e14fad3bd"
      },
      "execution_count": 22,
      "outputs": [
        {
          "output_type": "execute_result",
          "data": {
            "text/plain": [
              "<Axes: xlabel='Brand_name', ylabel='Price'>"
            ]
          },
          "metadata": {},
          "execution_count": 22
        },
        {
          "output_type": "display_data",
          "data": {
            "text/plain": [
              "<Figure size 640x480 with 1 Axes>"
            ],
            "image/png": "[encoded data removed]"
          },
          "metadata": {}
        }
      ]
    },
    {
      "cell_type": "code",
      "source": [
        "##HEATMAP\n",
        "heat_df=eda_df[['Screen_size','Battery_capacity',\n",
        "       'Ram_size', 'Storage_capacity', 'Price','Units_sold',\n",
        "       'month', 'year']]\n",
        "\n",
        "corr = heat_df.corr()\n",
        "sns.heatmap(corr)"
      ],
      "metadata": {
        "id": "u7h-44hn3U2l",
        "colab": {
          "base_uri": "https://localhost:8080/",
          "height": 559
        },
        "outputId": "694afc21-5d24-47fc-c059-439e14590ea1"
      },
      "execution_count": 23,
      "outputs": [
        {
          "output_type": "execute_result",
          "data": {
            "text/plain": [
              "<Axes: >"
            ]
          },
          "metadata": {},
          "execution_count": 23
        },
        {
          "output_type": "display_data",
          "data": {
            "text/plain": [
              "<Figure size 640x480 with 2 Axes>"
            ],
            "image/png": "[encoded data removed]"
          },
          "metadata": {}
        }
      ]
    },
    {
      "cell_type": "markdown",
      "source": [
        "# **Models**"
      ],
      "metadata": {
        "id": "OK9G9q2C3U2l"
      }
    },
    {
      "cell_type": "markdown",
      "source": [
        "**Decision Tree**"
      ],
      "metadata": {
        "id": "qw3uvdzV3U2l"
      }
    },
    {
      "cell_type": "code",
      "source": [
        "import pandas as pd\n",
        "import numpy as np\n",
        "import matplotlib.pyplot as plt\n",
        "from sklearn.tree import DecisionTreeRegressor\n",
        "from sklearn.model_selection import train_test_split\n",
        "from sklearn.metrics import r2_score\n",
        "from sklearn.metrics import mean_squared_error\n",
        "from sklearn.metrics import classification_report\n",
        "from sklearn.metrics import accuracy_score\n",
        "from sklearn.metrics import confusion_matrix\n",
        "import pickle\n",
        "import joblib"
      ],
      "metadata": {
        "id": "vCqiqu103U2m"
      },
      "execution_count": 53,
      "outputs": []
    },
    {
      "cell_type": "code",
      "source": [
        "path=input(\"Enter the path of data:\")"
      ],
      "metadata": {
        "id": "klL2OspY3U2m",
        "colab": {
          "base_uri": "https://localhost:8080/"
        },
        "outputId": "f85c0f0e-9acf-4fc6-dd07-a3fa390bc43c"
      },
      "execution_count": 25,
      "outputs": [
        {
          "name": "stdout",
          "output_type": "stream",
          "text": [
            "Enter the path of data:/content/Mobileprice_fromjson.csv\n"
          ]
        }
      ]
    },
    {
      "cell_type": "code",
      "source": [
        "df = pd.read_csv(path)"
      ],
      "metadata": {
        "id": "ZLwpP6c63U2m"
      },
      "execution_count": 26,
      "outputs": []
    },
    {
      "cell_type": "code",
      "source": [
        "df_tree = df.copy(deep=True)"
      ],
      "metadata": {
        "id": "7uxoeVBJ3U2m"
      },
      "execution_count": 27,
      "outputs": []
    },
    {
      "cell_type": "code",
      "source": [
        "df_tree.head()"
      ],
      "metadata": {
        "id": "sKT6swrw3U2n",
        "colab": {
          "base_uri": "https://localhost:8080/",
          "height": 206
        },
        "outputId": "90d105a4-1760-4656-e34f-ef4091c8b105"
      },
      "execution_count": 28,
      "outputs": [
        {
          "output_type": "execute_result",
          "data": {
            "text/plain": [
              "  Customer_id Brand_name  Screen_size  Battery_capacity  Ram_size  \\\n",
              "0      4382JV      Apple          7.5             11250        12   \n",
              "1      tCTYRh     Xiaomi          7.7             11550        12   \n",
              "2      Mx77Cv     Xiaomi          6.0              9000         9   \n",
              "3      2J38jY    Samsung          5.5              8250         9   \n",
              "4      r2Hh39       Oppo          4.9              7350         8   \n",
              "\n",
              "   Storage_capacity Purchase_date  Price Payment_type  Units_sold  \n",
              "0               512    2023/09/23    791       paypal        3532  \n",
              "1               512    2023/06/13    792  credit card        3400  \n",
              "2                32    2024/04/25     66         cash        1638  \n",
              "3               250    2023/03/08    392       paypal        1176  \n",
              "4                64    2023/03/31    111  credit card        2802  "
            ],
            "text/html": [
              "\n",
              "  <div id=\"df-b29bdc60-be5d-4f67-930e-dcb59b3a6b90\" class=\"colab-df-container\">\n",
              "    <div>\n",
              "<style scoped>\n",
              "    .dataframe tbody tr th:only-of-type {\n",
              "        vertical-align: middle;\n",
              "    }\n",
              "\n",
              "    .dataframe tbody tr th {\n",
              "        vertical-align: top;\n",
              "    }\n",
              "\n",
              "    .dataframe thead th {\n",
              "        text-align: right;\n",
              "    }\n",
              "</style>\n",
              "<table border=\"1\" class=\"dataframe\">\n",
              "  <thead>\n",
              "    <tr style=\"text-align: right;\">\n",
              "      <th></th>\n",
              "      <th>Customer_id</th>\n",
              "      <th>Brand_name</th>\n",
              "      <th>Screen_size</th>\n",
              "      <th>Battery_capacity</th>\n",
              "      <th>Ram_size</th>\n",
              "      <th>Storage_capacity</th>\n",
              "      <th>Purchase_date</th>\n",
              "      <th>Price</th>\n",
              "      <th>Payment_type</th>\n",
              "      <th>Units_sold</th>\n",
              "    </tr>\n",
              "  </thead>\n",
              "  <tbody>\n",
              "    <tr>\n",
              "      <th>0</th>\n",
              "      <td>4382JV</td>\n",
              "      <td>Apple</td>\n",
              "      <td>7.5</td>\n",
              "      <td>11250</td>\n",
              "      <td>12</td>\n",
              "      <td>512</td>\n",
              "      <td>2023/09/23</td>\n",
              "      <td>791</td>\n",
              "      <td>paypal</td>\n",
              "      <td>3532</td>\n",
              "    </tr>\n",
              "    <tr>\n",
              "      <th>1</th>\n",
              "      <td>tCTYRh</td>\n",
              "      <td>Xiaomi</td>\n",
              "      <td>7.7</td>\n",
              "      <td>11550</td>\n",
              "      <td>12</td>\n",
              "      <td>512</td>\n",
              "      <td>2023/06/13</td>\n",
              "      <td>792</td>\n",
              "      <td>credit card</td>\n",
              "      <td>3400</td>\n",
              "    </tr>\n",
              "    <tr>\n",
              "      <th>2</th>\n",
              "      <td>Mx77Cv</td>\n",
              "      <td>Xiaomi</td>\n",
              "      <td>6.0</td>\n",
              "      <td>9000</td>\n",
              "      <td>9</td>\n",
              "      <td>32</td>\n",
              "      <td>2024/04/25</td>\n",
              "      <td>66</td>\n",
              "      <td>cash</td>\n",
              "      <td>1638</td>\n",
              "    </tr>\n",
              "    <tr>\n",
              "      <th>3</th>\n",
              "      <td>2J38jY</td>\n",
              "      <td>Samsung</td>\n",
              "      <td>5.5</td>\n",
              "      <td>8250</td>\n",
              "      <td>9</td>\n",
              "      <td>250</td>\n",
              "      <td>2023/03/08</td>\n",
              "      <td>392</td>\n",
              "      <td>paypal</td>\n",
              "      <td>1176</td>\n",
              "    </tr>\n",
              "    <tr>\n",
              "      <th>4</th>\n",
              "      <td>r2Hh39</td>\n",
              "      <td>Oppo</td>\n",
              "      <td>4.9</td>\n",
              "      <td>7350</td>\n",
              "      <td>8</td>\n",
              "      <td>64</td>\n",
              "      <td>2023/03/31</td>\n",
              "      <td>111</td>\n",
              "      <td>credit card</td>\n",
              "      <td>2802</td>\n",
              "    </tr>\n",
              "  </tbody>\n",
              "</table>\n",
              "</div>\n",
              "    <div class=\"colab-df-buttons\">\n",
              "\n",
              "  <div class=\"colab-df-container\">\n",
              "    <button class=\"colab-df-convert\" onclick=\"convertToInteractive('df-b29bdc60-be5d-4f67-930e-dcb59b3a6b90')\"\n",
              "            title=\"Convert this dataframe to an interactive table.\"\n",
              "            style=\"display:none;\">\n",
              "\n",
              "  <svg xmlns=\"http://www.w3.org/2000/svg\" height=\"24px\" viewBox=\"0 -960 960 960\">\n",
              "    <path d=\"M120-120v-720h720v720H120Zm60-500h600v-160H180v160Zm220 220h160v-160H400v160Zm0 220h160v-160H400v160ZM180-400h160v-160H180v160Zm440 0h160v-160H620v160ZM180-180h160v-160H180v160Zm440 0h160v-160H620v160Z\"/>\n",
              "  </svg>\n",
              "    </button>\n",
              "\n",
              "  <style>\n",
              "    .colab-df-container {\n",
              "      display:flex;\n",
              "      gap: 12px;\n",
              "    }\n",
              "\n",
              "    .colab-df-convert {\n",
              "      background-color: #E8F0FE;\n",
              "      border: none;\n",
              "      border-radius: 50%;\n",
              "      cursor: pointer;\n",
              "      display: none;\n",
              "      fill: #1967D2;\n",
              "      height: 32px;\n",
              "      padding: 0 0 0 0;\n",
              "      width: 32px;\n",
              "    }\n",
              "\n",
              "    .colab-df-convert:hover {\n",
              "      background-color: #E2EBFA;\n",
              "      box-shadow: 0px 1px 2px rgba(60, 64, 67, 0.3), 0px 1px 3px 1px rgba(60, 64, 67, 0.15);\n",
              "      fill: #174EA6;\n",
              "    }\n",
              "\n",
              "    .colab-df-buttons div {\n",
              "      margin-bottom: 4px;\n",
              "    }\n",
              "\n",
              "    [theme=dark] .colab-df-convert {\n",
              "      background-color: #3B4455;\n",
              "      fill: #D2E3FC;\n",
              "    }\n",
              "\n",
              "    [theme=dark] .colab-df-convert:hover {\n",
              "      background-color: #434B5C;\n",
              "      box-shadow: 0px 1px 3px 1px rgba(0, 0, 0, 0.15);\n",
              "      filter: drop-shadow(0px 1px 2px rgba(0, 0, 0, 0.3));\n",
              "      fill: #FFFFFF;\n",
              "    }\n",
              "  </style>\n",
              "\n",
              "    <script>\n",
              "      const buttonEl =\n",
              "        document.querySelector('#df-b29bdc60-be5d-4f67-930e-dcb59b3a6b90 button.colab-df-convert');\n",
              "      buttonEl.style.display =\n",
              "        google.colab.kernel.accessAllowed ? 'block' : 'none';\n",
              "\n",
              "      async function convertToInteractive(key) {\n",
              "        const element = document.querySelector('#df-b29bdc60-be5d-4f67-930e-dcb59b3a6b90');\n",
              "        const dataTable =\n",
              "          await google.colab.kernel.invokeFunction('convertToInteractive',\n",
              "                                                    [key], {});\n",
              "        if (!dataTable) return;\n",
              "\n",
              "        const docLinkHtml = 'Like what you see? Visit the ' +\n",
              "          '<a target=\"_blank\" href=https://colab.research.google.com/notebooks/data_table.ipynb>data table notebook</a>'\n",
              "          + ' to learn more about interactive tables.';\n",
              "        element.innerHTML = '';\n",
              "        dataTable['output_type'] = 'display_data';\n",
              "        await google.colab.output.renderOutput(dataTable, element);\n",
              "        const docLink = document.createElement('div');\n",
              "        docLink.innerHTML = docLinkHtml;\n",
              "        element.appendChild(docLink);\n",
              "      }\n",
              "    </script>\n",
              "  </div>\n",
              "\n",
              "\n",
              "<div id=\"df-e3573aaa-1fb3-41c9-881c-ca1c43bc5bce\">\n",
              "  <button class=\"colab-df-quickchart\" onclick=\"quickchart('df-e3573aaa-1fb3-41c9-881c-ca1c43bc5bce')\"\n",
              "            title=\"Suggest charts\"\n",
              "            style=\"display:none;\">\n",
              "\n",
              "<svg xmlns=\"http://www.w3.org/2000/svg\" height=\"24px\"viewBox=\"0 0 24 24\"\n",
              "     width=\"24px\">\n",
              "    <g>\n",
              "        <path d=\"M19 3H5c-1.1 0-2 .9-2 2v14c0 1.1.9 2 2 2h14c1.1 0 2-.9 2-2V5c0-1.1-.9-2-2-2zM9 17H7v-7h2v7zm4 0h-2V7h2v10zm4 0h-2v-4h2v4z\"/>\n",
              "    </g>\n",
              "</svg>\n",
              "  </button>\n",
              "\n",
              "<style>\n",
              "  .colab-df-quickchart {\n",
              "      --bg-color: #E8F0FE;\n",
              "      --fill-color: #1967D2;\n",
              "      --hover-bg-color: #E2EBFA;\n",
              "      --hover-fill-color: #174EA6;\n",
              "      --disabled-fill-color: #AAA;\n",
              "      --disabled-bg-color: #DDD;\n",
              "  }\n",
              "\n",
              "  [theme=dark] .colab-df-quickchart {\n",
              "      --bg-color: #3B4455;\n",
              "      --fill-color: #D2E3FC;\n",
              "      --hover-bg-color: #434B5C;\n",
              "      --hover-fill-color: #FFFFFF;\n",
              "      --disabled-bg-color: #3B4455;\n",
              "      --disabled-fill-color: #666;\n",
              "  }\n",
              "\n",
              "  .colab-df-quickchart {\n",
              "    background-color: var(--bg-color);\n",
              "    border: none;\n",
              "    border-radius: 50%;\n",
              "    cursor: pointer;\n",
              "    display: none;\n",
              "    fill: var(--fill-color);\n",
              "    height: 32px;\n",
              "    padding: 0;\n",
              "    width: 32px;\n",
              "  }\n",
              "\n",
              "  .colab-df-quickchart:hover {\n",
              "    background-color: var(--hover-bg-color);\n",
              "    box-shadow: 0 1px 2px rgba(60, 64, 67, 0.3), 0 1px 3px 1px rgba(60, 64, 67, 0.15);\n",
              "    fill: var(--button-hover-fill-color);\n",
              "  }\n",
              "\n",
              "  .colab-df-quickchart-complete:disabled,\n",
              "  .colab-df-quickchart-complete:disabled:hover {\n",
              "    background-color: var(--disabled-bg-color);\n",
              "    fill: var(--disabled-fill-color);\n",
              "    box-shadow: none;\n",
              "  }\n",
              "\n",
              "  .colab-df-spinner {\n",
              "    border: 2px solid var(--fill-color);\n",
              "    border-color: transparent;\n",
              "    border-bottom-color: var(--fill-color);\n",
              "    animation:\n",
              "      spin 1s steps(1) infinite;\n",
              "  }\n",
              "\n",
              "  @keyframes spin {\n",
              "    0% {\n",
              "      border-color: transparent;\n",
              "      border-bottom-color: var(--fill-color);\n",
              "      border-left-color: var(--fill-color);\n",
              "    }\n",
              "    20% {\n",
              "      border-color: transparent;\n",
              "      border-left-color: var(--fill-color);\n",
              "      border-top-color: var(--fill-color);\n",
              "    }\n",
              "    30% {\n",
              "      border-color: transparent;\n",
              "      border-left-color: var(--fill-color);\n",
              "      border-top-color: var(--fill-color);\n",
              "      border-right-color: var(--fill-color);\n",
              "    }\n",
              "    40% {\n",
              "      border-color: transparent;\n",
              "      border-right-color: var(--fill-color);\n",
              "      border-top-color: var(--fill-color);\n",
              "    }\n",
              "    60% {\n",
              "      border-color: transparent;\n",
              "      border-right-color: var(--fill-color);\n",
              "    }\n",
              "    80% {\n",
              "      border-color: transparent;\n",
              "      border-right-color: var(--fill-color);\n",
              "      border-bottom-color: var(--fill-color);\n",
              "    }\n",
              "    90% {\n",
              "      border-color: transparent;\n",
              "      border-bottom-color: var(--fill-color);\n",
              "    }\n",
              "  }\n",
              "</style>\n",
              "\n",
              "  <script>\n",
              "    async function quickchart(key) {\n",
              "      const quickchartButtonEl =\n",
              "        document.querySelector('#' + key + ' button');\n",
              "      quickchartButtonEl.disabled = true;  // To prevent multiple clicks.\n",
              "      quickchartButtonEl.classList.add('colab-df-spinner');\n",
              "      try {\n",
              "        const charts = await google.colab.kernel.invokeFunction(\n",
              "            'suggestCharts', [key], {});\n",
              "      } catch (error) {\n",
              "        console.error('Error during call to suggestCharts:', error);\n",
              "      }\n",
              "      quickchartButtonEl.classList.remove('colab-df-spinner');\n",
              "      quickchartButtonEl.classList.add('colab-df-quickchart-complete');\n",
              "    }\n",
              "    (() => {\n",
              "      let quickchartButtonEl =\n",
              "        document.querySelector('#df-e3573aaa-1fb3-41c9-881c-ca1c43bc5bce button');\n",
              "      quickchartButtonEl.style.display =\n",
              "        google.colab.kernel.accessAllowed ? 'block' : 'none';\n",
              "    })();\n",
              "  </script>\n",
              "</div>\n",
              "\n",
              "    </div>\n",
              "  </div>\n"
            ],
            "application/vnd.google.colaboratory.intrinsic+json": {
              "type": "dataframe",
              "variable_name": "df_tree",
              "summary": "{\n  \"name\": \"df_tree\",\n  \"rows\": 1000,\n  \"fields\": [\n    {\n      \"column\": \"Customer_id\",\n      \"properties\": {\n        \"dtype\": \"string\",\n        \"num_unique_values\": 1000,\n        \"samples\": [\n          \"FhP30F\",\n          \"JG173m\",\n          \"IXlHei\"\n        ],\n        \"semantic_type\": \"\",\n        \"description\": \"\"\n      }\n    },\n    {\n      \"column\": \"Brand_name\",\n      \"properties\": {\n        \"dtype\": \"category\",\n        \"num_unique_values\": 6,\n        \"samples\": [\n          \"Apple\",\n          \"Xiaomi\",\n          \"Oneplus\"\n        ],\n        \"semantic_type\": \"\",\n        \"description\": \"\"\n      }\n    },\n    {\n      \"column\": \"Screen_size\",\n      \"properties\": {\n        \"dtype\": \"number\",\n        \"std\": 1.1688160338226548,\n        \"min\": 4.0,\n        \"max\": 8.0,\n        \"num_unique_values\": 41,\n        \"samples\": [\n          5.0,\n          6.8,\n          7.3\n        ],\n        \"semantic_type\": \"\",\n        \"description\": \"\"\n      }\n    },\n    {\n      \"column\": \"Battery_capacity\",\n      \"properties\": {\n        \"dtype\": \"number\",\n        \"std\": 1753,\n        \"min\": 6000,\n        \"max\": 12000,\n        \"num_unique_values\": 41,\n        \"samples\": [\n          7500,\n          10200,\n          10950\n        ],\n        \"semantic_type\": \"\",\n        \"description\": \"\"\n      }\n    },\n    {\n      \"column\": \"Ram_size\",\n      \"properties\": {\n        \"dtype\": \"number\",\n        \"std\": 1,\n        \"min\": 6,\n        \"max\": 12,\n        \"num_unique_values\": 7,\n        \"samples\": [\n          12,\n          9,\n          10\n        ],\n        \"semantic_type\": \"\",\n        \"description\": \"\"\n      }\n    },\n    {\n      \"column\": \"Storage_capacity\",\n      \"properties\": {\n        \"dtype\": \"number\",\n        \"std\": 181,\n        \"min\": 32,\n        \"max\": 512,\n        \"num_unique_values\": 5,\n        \"samples\": [\n          32,\n          128,\n          250\n        ],\n        \"semantic_type\": \"\",\n        \"description\": \"\"\n      }\n    },\n    {\n      \"column\": \"Purchase_date\",\n      \"properties\": {\n        \"dtype\": \"object\",\n        \"num_unique_values\": 445,\n        \"samples\": [\n          \"2023/10/25\",\n          \"2024/02/06\",\n          \"2024/02/17\"\n        ],\n        \"semantic_type\": \"\",\n        \"description\": \"\"\n      }\n    },\n    {\n      \"column\": \"Price\",\n      \"properties\": {\n        \"dtype\": \"number\",\n        \"std\": 272,\n        \"min\": 60,\n        \"max\": 792,\n        \"num_unique_values\": 64,\n        \"samples\": [\n          113,\n          216,\n          791\n        ],\n        \"semantic_type\": \"\",\n        \"description\": \"\"\n      }\n    },\n    {\n      \"column\": \"Payment_type\",\n      \"properties\": {\n        \"dtype\": \"category\",\n        \"num_unique_values\": 4,\n        \"samples\": [\n          \"credit card\",\n          \"debit card\",\n          \"paypal\"\n        ],\n        \"semantic_type\": \"\",\n        \"description\": \"\"\n      }\n    },\n    {\n      \"column\": \"Units_sold\",\n      \"properties\": {\n        \"dtype\": \"number\",\n        \"std\": 1160,\n        \"min\": 1009,\n        \"max\": 4999,\n        \"num_unique_values\": 904,\n        \"samples\": [\n          1704,\n          3772,\n          3419\n        ],\n        \"semantic_type\": \"\",\n        \"description\": \"\"\n      }\n    }\n  ]\n}"
            }
          },
          "metadata": {},
          "execution_count": 28
        }
      ]
    },
    {
      "cell_type": "code",
      "source": [
        "##Data Preprocessing\n",
        "map_brand ={'Apple':0,'Oppo':1,'Xiaomi':2,'Samsung':3,'Oneplus':4,'Motorola':5}\n",
        "df_tree['Brand_name']=df_tree['Brand_name'].map(map_brand).astype('category')\n",
        "\n",
        "map_payment_type =  {'cash':0, 'credit card':1, 'paypal':3}\n",
        "df_tree['Payment_type']=df_tree['Payment_type'].map(map_brand).astype('category')"
      ],
      "metadata": {
        "id": "Aox61qf03U2n"
      },
      "execution_count": 29,
      "outputs": []
    },
    {
      "cell_type": "code",
      "source": [
        "##Converting date values to day-month-year and deleting purchase date feature\n",
        "##In this particular area we are facing a difficulty where the column \"Purchase Date seems to be absent in the dataframe, so we check if 'Purchase_date' exists in the DataFrame\n",
        "if 'Purchase_date' in df_tree.columns:\n",
        "    # Convert 'Purchase_date' to datetime if it's not already\n",
        "    if df_tree['Purchase_date'].dtype != 'datetime64[ns]':\n",
        "        df_tree['Purchase_date'] = pd.to_datetime(df_tree['Purchase_date'])\n",
        "\n",
        "    # Proceed with extracting day, month, and year\n",
        "    df_tree['day'] = df_tree['Purchase_date'].dt.day\n",
        "    df_tree['month'] = df_tree['Purchase_date'].dt.month\n",
        "    df_tree['year'] = df_tree['Purchase_date'].dt.year\n",
        "else:\n",
        "    print(\"Error: 'Purchase_date' column not found in DataFrame.\")\n",
        "    # Investigate why the column is missing\n",
        "    print(df_tree.columns)  # Print available columns to help identify the issue"
      ],
      "metadata": {
        "id": "Lvgk0B6G3U2o"
      },
      "execution_count": 30,
      "outputs": []
    },
    {
      "cell_type": "code",
      "source": [
        "##Trying an alternative method\n",
        "df['Purchase_date'] = pd.to_datetime(df['Purchase_date'])\n",
        "df['day'] = df['Purchase_date'].dt.day\n",
        "df['month'] = df['Purchase_date'].dt.month\n",
        "df['year'] = df['Purchase_date'].dt.year"
      ],
      "metadata": {
        "id": "l3K6qfvu3U2o"
      },
      "execution_count": 31,
      "outputs": []
    },
    {
      "cell_type": "code",
      "source": [
        "df_tree.drop(['Customer_id'],axis=1,inplace=True)"
      ],
      "metadata": {
        "id": "lXftC0oq3U2p"
      },
      "execution_count": 32,
      "outputs": []
    },
    {
      "cell_type": "code",
      "source": [
        "y=df_tree['Price']\n",
        "X=df_tree.drop(['Price'],axis=1)\n",
        "X_train,X_test,y_train,y_test=train_test_split(X,y,test_size=0.2,random_state=42)\n",
        "split_data = [X_train, X_test, y_train, y_test]"
      ],
      "metadata": {
        "id": "Klhb0bKl3U2p"
      },
      "execution_count": 33,
      "outputs": []
    },
    {
      "cell_type": "code",
      "source": [
        "dt=DecisionTreeRegressor()\n",
        "\n"
      ],
      "metadata": {
        "id": "_yy-PY0pACMF"
      },
      "execution_count": 34,
      "outputs": []
    },
    {
      "cell_type": "code",
      "source": [
        "dt.model1 = DecisionTreeRegressor(max_depth=3, max_leaf_nodes=2)\n"
      ],
      "metadata": {
        "id": "m74aExO4CABh"
      },
      "execution_count": 35,
      "outputs": []
    },
    {
      "cell_type": "code",
      "source": [
        "import pandas as pd\n",
        "for col in X_train.columns:\n",
        "    if X_train[col].dtype == 'datetime64[ns]':\n",
        "        X_train[col] = X_train[col].apply(lambda x: x.timestamp())\n",
        "\n",
        "\n",
        "for col in X_test.columns:\n",
        "    if X_test[col].dtype == 'datetime64[ns]':\n",
        "        X_test[col] = X_test[col].apply(lambda x: x.timestamp())\n",
        "\n",
        "\n",
        "dt.model1.fit(X_train,y_train)"
      ],
      "metadata": {
        "colab": {
          "base_uri": "https://localhost:8080/",
          "height": 75
        },
        "id": "2oBy6yCJCDb5",
        "outputId": "db63b9bf-1e9d-4990-8457-869207df82e8"
      },
      "execution_count": 36,
      "outputs": [
        {
          "output_type": "execute_result",
          "data": {
            "text/plain": [
              "DecisionTreeRegressor(max_depth=3, max_leaf_nodes=2)"
            ],
            "text/html": [
              "<style>#sk-container-id-1 {color: black;}#sk-container-id-1 pre{padding: 0;}#sk-container-id-1 div.sk-toggleable {background-color: white;}#sk-container-id-1 label.sk-toggleable__label {cursor: pointer;display: block;width: 100%;margin-bottom: 0;padding: 0.3em;box-sizing: border-box;text-align: center;}#sk-container-id-1 label.sk-toggleable__label-arrow:before {content: \"▸\";float: left;margin-right: 0.25em;color: #696969;}#sk-container-id-1 label.sk-toggleable__label-arrow:hover:before {color: black;}#sk-container-id-1 div.sk-estimator:hover label.sk-toggleable__label-arrow:before {color: black;}#sk-container-id-1 div.sk-toggleable__content {max-height: 0;max-width: 0;overflow: hidden;text-align: left;background-color: #f0f8ff;}#sk-container-id-1 div.sk-toggleable__content pre {margin: 0.2em;color: black;border-radius: 0.25em;background-color: #f0f8ff;}#sk-container-id-1 input.sk-toggleable__control:checked~div.sk-toggleable__content {max-height: 200px;max-width: 100%;overflow: auto;}#sk-container-id-1 input.sk-toggleable__control:checked~label.sk-toggleable__label-arrow:before {content: \"▾\";}#sk-container-id-1 div.sk-estimator input.sk-toggleable__control:checked~label.sk-toggleable__label {background-color: #d4ebff;}#sk-container-id-1 div.sk-label input.sk-toggleable__control:checked~label.sk-toggleable__label {background-color: #d4ebff;}#sk-container-id-1 input.sk-hidden--visually {border: 0;clip: rect(1px 1px 1px 1px);clip: rect(1px, 1px, 1px, 1px);height: 1px;margin: -1px;overflow: hidden;padding: 0;position: absolute;width: 1px;}#sk-container-id-1 div.sk-estimator {font-family: monospace;background-color: #f0f8ff;border: 1px dotted black;border-radius: 0.25em;box-sizing: border-box;margin-bottom: 0.5em;}#sk-container-id-1 div.sk-estimator:hover {background-color: #d4ebff;}#sk-container-id-1 div.sk-parallel-item::after {content: \"\";width: 100%;border-bottom: 1px solid gray;flex-grow: 1;}#sk-container-id-1 div.sk-label:hover label.sk-toggleable__label {background-color: #d4ebff;}#sk-container-id-1 div.sk-serial::before {content: \"\";position: absolute;border-left: 1px solid gray;box-sizing: border-box;top: 0;bottom: 0;left: 50%;z-index: 0;}#sk-container-id-1 div.sk-serial {display: flex;flex-direction: column;align-items: center;background-color: white;padding-right: 0.2em;padding-left: 0.2em;position: relative;}#sk-container-id-1 div.sk-item {position: relative;z-index: 1;}#sk-container-id-1 div.sk-parallel {display: flex;align-items: stretch;justify-content: center;background-color: white;position: relative;}#sk-container-id-1 div.sk-item::before, #sk-container-id-1 div.sk-parallel-item::before {content: \"\";position: absolute;border-left: 1px solid gray;box-sizing: border-box;top: 0;bottom: 0;left: 50%;z-index: -1;}#sk-container-id-1 div.sk-parallel-item {display: flex;flex-direction: column;z-index: 1;position: relative;background-color: white;}#sk-container-id-1 div.sk-parallel-item:first-child::after {align-self: flex-end;width: 50%;}#sk-container-id-1 div.sk-parallel-item:last-child::after {align-self: flex-start;width: 50%;}#sk-container-id-1 div.sk-parallel-item:only-child::after {width: 0;}#sk-container-id-1 div.sk-dashed-wrapped {border: 1px dashed gray;margin: 0 0.4em 0.5em 0.4em;box-sizing: border-box;padding-bottom: 0.4em;background-color: white;}#sk-container-id-1 div.sk-label label {font-family: monospace;font-weight: bold;display: inline-block;line-height: 1.2em;}#sk-container-id-1 div.sk-label-container {text-align: center;}#sk-container-id-1 div.sk-container {/* jupyter's `normalize.less` sets `[hidden] { display: none; }` but bootstrap.min.css set `[hidden] { display: none !important; }` so we also need the `!important` here to be able to override the default hidden behavior on the sphinx rendered scikit-learn.org. See: https://github.com/scikit-learn/scikit-learn/issues/21755 */display: inline-block !important;position: relative;}#sk-container-id-1 div.sk-text-repr-fallback {display: none;}</style><div id=\"sk-container-id-1\" class=\"sk-top-container\"><div class=\"sk-text-repr-fallback\"><pre>DecisionTreeRegressor(max_depth=3, max_leaf_nodes=2)</pre><b>In a Jupyter environment, please rerun this cell to show the HTML representation or trust the notebook. <br />On GitHub, the HTML representation is unable to render, please try loading this page with nbviewer.org.</b></div><div class=\"sk-container\" hidden><div class=\"sk-item\"><div class=\"sk-estimator sk-toggleable\"><input class=\"sk-toggleable__control sk-hidden--visually\" id=\"sk-estimator-id-1\" type=\"checkbox\" checked><label for=\"sk-estimator-id-1\" class=\"sk-toggleable__label sk-toggleable__label-arrow\">DecisionTreeRegressor</label><div class=\"sk-toggleable__content\"><pre>DecisionTreeRegressor(max_depth=3, max_leaf_nodes=2)</pre></div></div></div></div></div>"
            ]
          },
          "metadata": {},
          "execution_count": 36
        }
      ]
    },
    {
      "cell_type": "code",
      "source": [
        "##Predicting outputs (Test Data)\n",
        "y = df_tree['Price']\n",
        "X = df_tree.drop(['Price'], axis=1)\n",
        "X_train, X_test, y_train, y_test = train_test_split(X, y, test_size=0.2, random_state=42)\n",
        "\n",
        "# Initialize the DecisionTreeRegressor\n",
        "dt = DecisionTreeRegressor()\n",
        "dt.model1 = DecisionTreeRegressor(max_depth=3, max_leaf_nodes=2)\n",
        "\n",
        "# Convert datetime columns to timestamps for BOTH training and testing sets\n",
        "for col in X_train.columns:\n",
        "    if X_train[col].dtype == 'datetime64[ns]':\n",
        "        X_train[col] = X_train[col].apply(lambda x: x.timestamp())\n",
        "\n",
        "for col in X_test.columns:\n",
        "    if X_test[col].dtype == 'datetime64[ns]':\n",
        "        X_test[col] = X_test[col].apply(lambda x: x.timestamp())\n",
        "\n",
        "# Fit the model\n",
        "dt.model1.fit(X_train, y_train)\n",
        "\n",
        "# Predict on test data\n",
        "dt_yprd = dt.model1.predict(X_test)\n",
        "\n",
        "# Evaluate the model\n",
        "dt_mse = mean_squared_error(y_test, dt_yprd)\n",
        "dt_r2 = r2_score(y_test, dt_yprd)\n",
        "\n",
        "print(\"Mean Squared Error (MSE):\", dt_mse)\n",
        "print(\"R-squared (R2):\", dt_r2)\n",
        "plt.scatter(y_test, dt_yprd)\n",
        "plt.xlabel(\"Actual Prices\")\n",
        "plt.ylabel(\"Predicted Prices\")\n",
        "plt.title(\"Actual Prices vs. Predicted Prices\")\n",
        "plt.show()\n"
      ],
      "metadata": {
        "colab": {
          "base_uri": "https://localhost:8080/",
          "height": 507
        },
        "id": "NzpFHGgcDTfH",
        "outputId": "e8f2b468-1345-4685-f99b-180659df7bf7"
      },
      "execution_count": 80,
      "outputs": [
        {
          "output_type": "stream",
          "name": "stdout",
          "text": [
            "Mean Squared Error (MSE): 12608.859896574684\n",
            "R-squared (R2): 0.8256078309698641\n"
          ]
        },
        {
          "output_type": "display_data",
          "data": {
            "text/plain": [
              "<Figure size 640x480 with 1 Axes>"
            ],
            "image/png": "[encoded data removed]"
          },
          "metadata": {}
        }
      ]
    },
    {
      "cell_type": "markdown",
      "source": [
        "# **Random Forest**"
      ],
      "metadata": {
        "id": "ixcUj5hEJqdC"
      }
    },
    {
      "cell_type": "code",
      "source": [
        "import pandas as pd\n",
        "import numpy as np\n",
        "from sklearn.ensemble import RandomForestRegressor\n",
        "from sklearn.model_selection import train_test_split\n",
        "from sklearn.metrics import r2_score\n",
        "from sklearn.metrics import mean_squared_error\n",
        "import pickle\n",
        "import joblib"
      ],
      "metadata": {
        "id": "8PQJScRKKqQY"
      },
      "execution_count": 38,
      "outputs": []
    },
    {
      "cell_type": "code",
      "source": [
        "Path = input(\"Enter the path of data:\")"
      ],
      "metadata": {
        "id": "76KyTD0EML-L",
        "colab": {
          "base_uri": "https://localhost:8080/"
        },
        "outputId": "904ae587-e36a-4484-8ce2-5688dc2f1b0a"
      },
      "execution_count": 39,
      "outputs": [
        {
          "name": "stdout",
          "output_type": "stream",
          "text": [
            "Enter the path of data:/content/Mobileprice_fromjson.csv\n"
          ]
        }
      ]
    },
    {
      "cell_type": "code",
      "source": [
        "df=pd.read_csv(Path)\n",
        "df_tree = df.copy(deep=True)\n",
        "\n",
        "map_brand = {'Apple': 0, 'Oppo': 1, 'Xiaomi': 2, 'Samsung':3,'Oneplus':4,'Motorola':5}\n",
        "df_tree['Brand_name']=df_tree['Brand_name'].map(map_brand).astype('category')\n",
        "\n",
        "map_paytype = {'cash':0, 'credit card':1, 'debit card':2, 'paypal':3}\n",
        "df_tree['Payment_type']=df_tree['Payment_type'].map(map_paytype).astype('category')"
      ],
      "metadata": {
        "id": "6Eim0vUhiy8A"
      },
      "execution_count": 41,
      "outputs": []
    },
    {
      "cell_type": "code",
      "source": [
        "if 'Purchase_date' in df_tree.columns:\n",
        "    # Convert 'Purchase_date' to datetime if it's not already\n",
        "    if df_tree['Purchase_date'].dtype != 'datetime64[ns]':\n",
        "        df_tree['Purchase_date'] = pd.to_datetime(df_tree['Purchase_date'])\n",
        "\n",
        "    # Proceed with extracting day, month, and year\n",
        "    df_tree['day'] = df_tree['Purchase_date'].dt.day\n",
        "    df_tree['month'] = df_tree['Purchase_date'].dt.month\n",
        "    df_tree['year'] = df_tree['Purchase_date'].dt.year\n",
        "else:\n",
        "    print(\"Error: 'Purchase_date' column not found in DataFrame.\")"
      ],
      "metadata": {
        "id": "T1p_HMuCj02f"
      },
      "execution_count": 42,
      "outputs": []
    },
    {
      "cell_type": "code",
      "source": [
        "#Convert date values into granual features \"day, month and year \" and delete Purchase date feature\n",
        "df_tree['Purchase_date']=pd.to_datetime(df_tree['Purchase_date'],errors='coerce')\n",
        "df_tree['day']=df_tree['Purchase_date'].dt.day\n",
        "df_tree['month']=df_tree['Purchase_date'].dt.month\n",
        "df_tree['year']=df_tree['Purchase_date'].dt.year\n"
      ],
      "metadata": {
        "id": "U8qAhtuUj01F"
      },
      "execution_count": 43,
      "outputs": []
    },
    {
      "cell_type": "code",
      "source": [
        "df_tree.drop(['Customer_id','Purchase_date'],axis=1,inplace=True)"
      ],
      "metadata": {
        "id": "SR_pgvS4kSXV"
      },
      "execution_count": 44,
      "outputs": []
    },
    {
      "cell_type": "code",
      "source": [
        "y = df_tree['Price']\n",
        "X = df_tree.drop(['Price'], axis=1)\n",
        "X_train, X_test, y_train, y_test = train_test_split(X, y, test_size=0.2, random_state=42)"
      ],
      "metadata": {
        "id": "I2X60cJikVmL"
      },
      "execution_count": 45,
      "outputs": []
    },
    {
      "cell_type": "code",
      "source": [
        "rand_frst_model1 = RandomForestRegressor(n_estimators=100, random_state=42)\n",
        "rand_frst_model1.fit(X_train, y_train)\n"
      ],
      "metadata": {
        "colab": {
          "base_uri": "https://localhost:8080/",
          "height": 75
        },
        "id": "rqcBYCtEksVj",
        "outputId": "b0ea8d71-f65c-4811-9918-a683fcc86fd2"
      },
      "execution_count": 46,
      "outputs": [
        {
          "output_type": "execute_result",
          "data": {
            "text/plain": [
              "RandomForestRegressor(random_state=42)"
            ],
            "text/html": [
              "<style>#sk-container-id-2 {color: black;}#sk-container-id-2 pre{padding: 0;}#sk-container-id-2 div.sk-toggleable {background-color: white;}#sk-container-id-2 label.sk-toggleable__label {cursor: pointer;display: block;width: 100%;margin-bottom: 0;padding: 0.3em;box-sizing: border-box;text-align: center;}#sk-container-id-2 label.sk-toggleable__label-arrow:before {content: \"▸\";float: left;margin-right: 0.25em;color: #696969;}#sk-container-id-2 label.sk-toggleable__label-arrow:hover:before {color: black;}#sk-container-id-2 div.sk-estimator:hover label.sk-toggleable__label-arrow:before {color: black;}#sk-container-id-2 div.sk-toggleable__content {max-height: 0;max-width: 0;overflow: hidden;text-align: left;background-color: #f0f8ff;}#sk-container-id-2 div.sk-toggleable__content pre {margin: 0.2em;color: black;border-radius: 0.25em;background-color: #f0f8ff;}#sk-container-id-2 input.sk-toggleable__control:checked~div.sk-toggleable__content {max-height: 200px;max-width: 100%;overflow: auto;}#sk-container-id-2 input.sk-toggleable__control:checked~label.sk-toggleable__label-arrow:before {content: \"▾\";}#sk-container-id-2 div.sk-estimator input.sk-toggleable__control:checked~label.sk-toggleable__label {background-color: #d4ebff;}#sk-container-id-2 div.sk-label input.sk-toggleable__control:checked~label.sk-toggleable__label {background-color: #d4ebff;}#sk-container-id-2 input.sk-hidden--visually {border: 0;clip: rect(1px 1px 1px 1px);clip: rect(1px, 1px, 1px, 1px);height: 1px;margin: -1px;overflow: hidden;padding: 0;position: absolute;width: 1px;}#sk-container-id-2 div.sk-estimator {font-family: monospace;background-color: #f0f8ff;border: 1px dotted black;border-radius: 0.25em;box-sizing: border-box;margin-bottom: 0.5em;}#sk-container-id-2 div.sk-estimator:hover {background-color: #d4ebff;}#sk-container-id-2 div.sk-parallel-item::after {content: \"\";width: 100%;border-bottom: 1px solid gray;flex-grow: 1;}#sk-container-id-2 div.sk-label:hover label.sk-toggleable__label {background-color: #d4ebff;}#sk-container-id-2 div.sk-serial::before {content: \"\";position: absolute;border-left: 1px solid gray;box-sizing: border-box;top: 0;bottom: 0;left: 50%;z-index: 0;}#sk-container-id-2 div.sk-serial {display: flex;flex-direction: column;align-items: center;background-color: white;padding-right: 0.2em;padding-left: 0.2em;position: relative;}#sk-container-id-2 div.sk-item {position: relative;z-index: 1;}#sk-container-id-2 div.sk-parallel {display: flex;align-items: stretch;justify-content: center;background-color: white;position: relative;}#sk-container-id-2 div.sk-item::before, #sk-container-id-2 div.sk-parallel-item::before {content: \"\";position: absolute;border-left: 1px solid gray;box-sizing: border-box;top: 0;bottom: 0;left: 50%;z-index: -1;}#sk-container-id-2 div.sk-parallel-item {display: flex;flex-direction: column;z-index: 1;position: relative;background-color: white;}#sk-container-id-2 div.sk-parallel-item:first-child::after {align-self: flex-end;width: 50%;}#sk-container-id-2 div.sk-parallel-item:last-child::after {align-self: flex-start;width: 50%;}#sk-container-id-2 div.sk-parallel-item:only-child::after {width: 0;}#sk-container-id-2 div.sk-dashed-wrapped {border: 1px dashed gray;margin: 0 0.4em 0.5em 0.4em;box-sizing: border-box;padding-bottom: 0.4em;background-color: white;}#sk-container-id-2 div.sk-label label {font-family: monospace;font-weight: bold;display: inline-block;line-height: 1.2em;}#sk-container-id-2 div.sk-label-container {text-align: center;}#sk-container-id-2 div.sk-container {/* jupyter's `normalize.less` sets `[hidden] { display: none; }` but bootstrap.min.css set `[hidden] { display: none !important; }` so we also need the `!important` here to be able to override the default hidden behavior on the sphinx rendered scikit-learn.org. See: https://github.com/scikit-learn/scikit-learn/issues/21755 */display: inline-block !important;position: relative;}#sk-container-id-2 div.sk-text-repr-fallback {display: none;}</style><div id=\"sk-container-id-2\" class=\"sk-top-container\"><div class=\"sk-text-repr-fallback\"><pre>RandomForestRegressor(random_state=42)</pre><b>In a Jupyter environment, please rerun this cell to show the HTML representation or trust the notebook. <br />On GitHub, the HTML representation is unable to render, please try loading this page with nbviewer.org.</b></div><div class=\"sk-container\" hidden><div class=\"sk-item\"><div class=\"sk-estimator sk-toggleable\"><input class=\"sk-toggleable__control sk-hidden--visually\" id=\"sk-estimator-id-2\" type=\"checkbox\" checked><label for=\"sk-estimator-id-2\" class=\"sk-toggleable__label sk-toggleable__label-arrow\">RandomForestRegressor</label><div class=\"sk-toggleable__content\"><pre>RandomForestRegressor(random_state=42)</pre></div></div></div></div></div>"
            ]
          },
          "metadata": {},
          "execution_count": 46
        }
      ]
    },
    {
      "cell_type": "code",
      "source": [
        "rand_frst_yprd = rand_frst_model1.predict(X_test)\n",
        "rand_frst_mse = mean_squared_error(y_test, rand_frst_yprd)\n",
        "rand_frst_r2 = r2_score(y_test, rand_frst_yprd)\n",
        "\n",
        "print(\"Mean Squared Error (MSE):\", rand_frst_mse)\n",
        "print(\"R-squared (R2):\", rand_frst_r2)\n",
        "plt.scatter(y_test, rand_frst_yprd)\n",
        "plt.xlabel(\"Actual Prices\")\n",
        "plt.ylabel(\"Predicted Prices\")\n",
        "plt.title(\"Actual Prices vs. Predicted Prices\")\n",
        "plt.show()\n"
      ],
      "metadata": {
        "colab": {
          "base_uri": "https://localhost:8080/",
          "height": 507
        },
        "id": "aEo2dvj2lZnH",
        "outputId": "8836ecd4-9df8-406e-b041-225dfeacaf70"
      },
      "execution_count": 75,
      "outputs": [
        {
          "output_type": "stream",
          "name": "stdout",
          "text": [
            "Mean Squared Error (MSE): 0.010643499999999943\n",
            "R-squared (R2): 0.9999998527905721\n"
          ]
        },
        {
          "output_type": "display_data",
          "data": {
            "text/plain": [
              "<Figure size 640x480 with 1 Axes>"
            ],
            "image/png": "[encoded data removed]"
          },
          "metadata": {}
        }
      ]
    },
    {
      "cell_type": "markdown",
      "source": [
        "# **SVM**"
      ],
      "metadata": {
        "id": "bA8HHJpulxqN"
      }
    },
    {
      "cell_type": "code",
      "source": [
        "import pandas as pd\n",
        "import numpy as np\n",
        "import matplotlib.pyplot as plt\n",
        "from sklearn.svm import SVC\n",
        "from sklearn.model_selection import train_test_split\n",
        "from sklearn.metrics import r2_score\n",
        "from sklearn.metrics import mean_squared_error\n",
        "\n",
        "import pickle\n",
        "import joblib"
      ],
      "metadata": {
        "id": "uobsBCsUlw_c"
      },
      "execution_count": 67,
      "outputs": []
    },
    {
      "cell_type": "code",
      "source": [
        "Path = input(\"Enter the path of data:\")"
      ],
      "metadata": {
        "colab": {
          "base_uri": "https://localhost:8080/"
        },
        "id": "cogLff6eo_NQ",
        "outputId": "c338fd15-622a-4a18-f4a8-8250bdbaf359"
      },
      "execution_count": 58,
      "outputs": [
        {
          "name": "stdout",
          "output_type": "stream",
          "text": [
            "Enter the path of data:/content/Mobileprice_fromjson.csv\n"
          ]
        }
      ]
    },
    {
      "cell_type": "code",
      "source": [
        "df=pd.read_csv(Path)"
      ],
      "metadata": {
        "id": "Brr2989puhj9"
      },
      "execution_count": 59,
      "outputs": []
    },
    {
      "cell_type": "code",
      "source": [
        "df_tree = df.copy(deep=True)"
      ],
      "metadata": {
        "id": "t5NDoWXpumAc"
      },
      "execution_count": 60,
      "outputs": []
    },
    {
      "cell_type": "code",
      "source": [
        "map_brand = {'Apple': 0, 'Oppo': 1, 'Xiaomi': 2, 'Samsung':3,'Oneplus':4,'Motorola':5}\n",
        "df_tree['Brand_name']=df_tree['Brand_name'].map(map_brand).astype('category')\n",
        "\n",
        "map_paytype = {'cash':0, 'credit card':1, 'debit card':2, 'paypal':3}\n",
        "df_tree['Payment_type']=df_tree['Payment_type'].map(map_paytype).astype('category')\n"
      ],
      "metadata": {
        "id": "Qh03XwsBupcO"
      },
      "execution_count": 61,
      "outputs": []
    },
    {
      "cell_type": "code",
      "source": [
        "if 'Purchase_date' in df_tree.columns:\n",
        "    # Convert 'Purchase_date' to datetime if it's not already\n",
        "    if df_tree['Purchase_date'].dtype != 'datetime64[ns]':\n",
        "        df_tree['Purchase_date'] = pd.to_datetime(df_tree['Purchase_date'])\n",
        "\n",
        "    # Proceed with extracting day, month, and year\n",
        "    df_tree['day'] = df_tree['Purchase_date'].dt.day\n",
        "    df_tree['month'] = df_tree['Purchase_date'].dt.month\n",
        "    df_tree['year'] = df_tree['Purchase_date'].dt.year\n",
        "else:\n",
        "    print(\"Error: 'Purchase_date' column not found in DataFrame.\")"
      ],
      "metadata": {
        "id": "j2FzJyIFuzEh"
      },
      "execution_count": 62,
      "outputs": []
    },
    {
      "cell_type": "code",
      "source": [
        "df_tree['Purchase_date']=pd.to_datetime(df_tree['Purchase_date'],errors='coerce')\n",
        "df_tree['day']=df_tree['Purchase_date'].dt.day\n",
        "df_tree['month']=df_tree['Purchase_date'].dt.month\n",
        "df_tree['year']=df_tree['Purchase_date'].dt.year\n"
      ],
      "metadata": {
        "id": "I79pd5dIvEWf"
      },
      "execution_count": 63,
      "outputs": []
    },
    {
      "cell_type": "code",
      "source": [
        "df_tree.drop(['Customer_id','Purchase_date'],axis=1,inplace=True)"
      ],
      "metadata": {
        "id": "mh5AmW_GvGJP"
      },
      "execution_count": 64,
      "outputs": []
    },
    {
      "cell_type": "code",
      "source": [
        "X=df_tree.drop(['Price'],axis=1)\n",
        "y=df_tree['Price']\n",
        "X_train,X_test,y_train,y_test=train_test_split(X,y,test_size=0.2,random_state=42)\n"
      ],
      "metadata": {
        "id": "5xsFJ3nlvJyw"
      },
      "execution_count": 65,
      "outputs": []
    },
    {
      "cell_type": "code",
      "source": [
        "svm_model = SVC()\n",
        "svm_model.fit(X_train, y_train)"
      ],
      "metadata": {
        "colab": {
          "base_uri": "https://localhost:8080/",
          "height": 75
        },
        "id": "4amVGdORvSUH",
        "outputId": "88718610-561e-4ca6-ec27-bd291b7f8f1e"
      },
      "execution_count": 68,
      "outputs": [
        {
          "output_type": "execute_result",
          "data": {
            "text/plain": [
              "SVC()"
            ],
            "text/html": [
              "<style>#sk-container-id-3 {color: black;}#sk-container-id-3 pre{padding: 0;}#sk-container-id-3 div.sk-toggleable {background-color: white;}#sk-container-id-3 label.sk-toggleable__label {cursor: pointer;display: block;width: 100%;margin-bottom: 0;padding: 0.3em;box-sizing: border-box;text-align: center;}#sk-container-id-3 label.sk-toggleable__label-arrow:before {content: \"▸\";float: left;margin-right: 0.25em;color: #696969;}#sk-container-id-3 label.sk-toggleable__label-arrow:hover:before {color: black;}#sk-container-id-3 div.sk-estimator:hover label.sk-toggleable__label-arrow:before {color: black;}#sk-container-id-3 div.sk-toggleable__content {max-height: 0;max-width: 0;overflow: hidden;text-align: left;background-color: #f0f8ff;}#sk-container-id-3 div.sk-toggleable__content pre {margin: 0.2em;color: black;border-radius: 0.25em;background-color: #f0f8ff;}#sk-container-id-3 input.sk-toggleable__control:checked~div.sk-toggleable__content {max-height: 200px;max-width: 100%;overflow: auto;}#sk-container-id-3 input.sk-toggleable__control:checked~label.sk-toggleable__label-arrow:before {content: \"▾\";}#sk-container-id-3 div.sk-estimator input.sk-toggleable__control:checked~label.sk-toggleable__label {background-color: #d4ebff;}#sk-container-id-3 div.sk-label input.sk-toggleable__control:checked~label.sk-toggleable__label {background-color: #d4ebff;}#sk-container-id-3 input.sk-hidden--visually {border: 0;clip: rect(1px 1px 1px 1px);clip: rect(1px, 1px, 1px, 1px);height: 1px;margin: -1px;overflow: hidden;padding: 0;position: absolute;width: 1px;}#sk-container-id-3 div.sk-estimator {font-family: monospace;background-color: #f0f8ff;border: 1px dotted black;border-radius: 0.25em;box-sizing: border-box;margin-bottom: 0.5em;}#sk-container-id-3 div.sk-estimator:hover {background-color: #d4ebff;}#sk-container-id-3 div.sk-parallel-item::after {content: \"\";width: 100%;border-bottom: 1px solid gray;flex-grow: 1;}#sk-container-id-3 div.sk-label:hover label.sk-toggleable__label {background-color: #d4ebff;}#sk-container-id-3 div.sk-serial::before {content: \"\";position: absolute;border-left: 1px solid gray;box-sizing: border-box;top: 0;bottom: 0;left: 50%;z-index: 0;}#sk-container-id-3 div.sk-serial {display: flex;flex-direction: column;align-items: center;background-color: white;padding-right: 0.2em;padding-left: 0.2em;position: relative;}#sk-container-id-3 div.sk-item {position: relative;z-index: 1;}#sk-container-id-3 div.sk-parallel {display: flex;align-items: stretch;justify-content: center;background-color: white;position: relative;}#sk-container-id-3 div.sk-item::before, #sk-container-id-3 div.sk-parallel-item::before {content: \"\";position: absolute;border-left: 1px solid gray;box-sizing: border-box;top: 0;bottom: 0;left: 50%;z-index: -1;}#sk-container-id-3 div.sk-parallel-item {display: flex;flex-direction: column;z-index: 1;position: relative;background-color: white;}#sk-container-id-3 div.sk-parallel-item:first-child::after {align-self: flex-end;width: 50%;}#sk-container-id-3 div.sk-parallel-item:last-child::after {align-self: flex-start;width: 50%;}#sk-container-id-3 div.sk-parallel-item:only-child::after {width: 0;}#sk-container-id-3 div.sk-dashed-wrapped {border: 1px dashed gray;margin: 0 0.4em 0.5em 0.4em;box-sizing: border-box;padding-bottom: 0.4em;background-color: white;}#sk-container-id-3 div.sk-label label {font-family: monospace;font-weight: bold;display: inline-block;line-height: 1.2em;}#sk-container-id-3 div.sk-label-container {text-align: center;}#sk-container-id-3 div.sk-container {/* jupyter's `normalize.less` sets `[hidden] { display: none; }` but bootstrap.min.css set `[hidden] { display: none !important; }` so we also need the `!important` here to be able to override the default hidden behavior on the sphinx rendered scikit-learn.org. See: https://github.com/scikit-learn/scikit-learn/issues/21755 */display: inline-block !important;position: relative;}#sk-container-id-3 div.sk-text-repr-fallback {display: none;}</style><div id=\"sk-container-id-3\" class=\"sk-top-container\"><div class=\"sk-text-repr-fallback\"><pre>SVC()</pre><b>In a Jupyter environment, please rerun this cell to show the HTML representation or trust the notebook. <br />On GitHub, the HTML representation is unable to render, please try loading this page with nbviewer.org.</b></div><div class=\"sk-container\" hidden><div class=\"sk-item\"><div class=\"sk-estimator sk-toggleable\"><input class=\"sk-toggleable__control sk-hidden--visually\" id=\"sk-estimator-id-3\" type=\"checkbox\" checked><label for=\"sk-estimator-id-3\" class=\"sk-toggleable__label sk-toggleable__label-arrow\">SVC</label><div class=\"sk-toggleable__content\"><pre>SVC()</pre></div></div></div></div></div>"
            ]
          },
          "metadata": {},
          "execution_count": 68
        }
      ]
    },
    {
      "cell_type": "code",
      "source": [
        "svm_yprd = svm_model.predict(X_test)\n",
        "svm_mse = mean_squared_error(y_test, svm_yprd)\n",
        "svm_r2 = r2_score(y_test, svm_yprd)\n",
        "\n",
        "print(\"Mean Squared Error (MSE):\", svm_mse)\n",
        "print(\"R-squared (R2):\", svm_r2)\n",
        "plt.scatter(y_test, svm_yprd)\n",
        "plt.xlabel(\"Actual Prices\")\n",
        "plt.ylabel(\"Predicted Prices\")\n",
        "plt.title(\"Actual Prices vs. Predicted Prices\")\n",
        "plt.show()\n",
        "plt.matshow(confusion_matrix(y_test, svm_yprd))\n",
        "plt.show()\n",
        "print(classification_report(y_test, svm_yprd))\n",
        "print(accuracy_score(y_test, svm_yprd))\n"
      ],
      "metadata": {
        "colab": {
          "base_uri": "https://localhost:8080/",
          "height": 1000
        },
        "id": "zNfK46whvzLA",
        "outputId": "294e604e-af1c-4ca8-c0e9-3243c37368c0"
      },
      "execution_count": 82,
      "outputs": [
        {
          "output_type": "stream",
          "name": "stdout",
          "text": [
            "Mean Squared Error (MSE): 171478.875\n",
            "R-squared (R2): -1.3717110983381926\n"
          ]
        },
        {
          "output_type": "display_data",
          "data": {
            "text/plain": [
              "<Figure size 640x480 with 1 Axes>"
            ],
            "image/png": "[encoded data removed]"
          },
          "metadata": {}
        },
        {
          "output_type": "display_data",
          "data": {
            "text/plain": [
              "<Figure size 480x480 with 1 Axes>"
            ],
            "image/png": "[encoded data removed]"
          },
          "metadata": {}
        },
        {
          "output_type": "stream",
          "name": "stdout",
          "text": [
            "              precision    recall  f1-score   support\n",
            "\n",
            "          61       0.00      0.00      0.00         2\n",
            "          62       0.00      0.00      0.00         2\n",
            "          63       0.00      0.00      0.00         1\n",
            "          65       0.00      0.00      0.00         4\n",
            "          66       0.00      0.00      0.00         1\n",
            "          67       0.00      0.00      0.00         3\n",
            "          68       0.00      0.00      0.00         1\n",
            "          69       0.00      0.00      0.00         1\n",
            "          71       0.00      0.00      0.00         2\n",
            "         109       0.00      0.00      0.00         4\n",
            "         110       0.00      0.00      0.00         1\n",
            "         111       0.00      0.00      0.00         2\n",
            "         112       0.00      0.00      0.00         1\n",
            "         113       0.00      0.00      0.00         2\n",
            "         114       0.00      0.00      0.00         5\n",
            "         115       0.00      0.00      0.00         2\n",
            "         116       0.00      0.00      0.00         3\n",
            "         117       0.00      0.00      0.00         1\n",
            "         118       0.00      0.00      0.00         2\n",
            "         119       0.00      0.00      0.00         1\n",
            "         120       0.00      0.00      0.00         5\n",
            "         205       0.00      0.00      0.00         1\n",
            "         206       0.00      0.00      0.00         3\n",
            "         207       0.00      0.00      0.00         1\n",
            "         208       0.00      0.00      0.00         2\n",
            "         209       0.00      0.00      0.00         1\n",
            "         210       0.00      0.00      0.00         3\n",
            "         211       0.00      0.00      0.00         2\n",
            "         213       0.00      0.00      0.00         1\n",
            "         214       0.00      0.00      0.00         3\n",
            "         215       0.00      0.00      0.00         2\n",
            "         216       0.00      0.00      0.00         2\n",
            "         388       0.00      0.00      0.00         8\n",
            "         389       0.00      0.00      0.00         5\n",
            "         390       0.00      0.00      0.00         5\n",
            "         391       0.00      0.00      0.00         7\n",
            "         392       0.00      0.00      0.00         4\n",
            "         393       0.00      0.00      0.00         4\n",
            "         394       0.00      0.00      0.00         6\n",
            "         395       0.00      0.00      0.00         3\n",
            "         396       0.00      0.00      0.00         7\n",
            "         397       0.18      0.75      0.29         8\n",
            "         398       0.00      0.00      0.00         4\n",
            "         399       0.00      0.00      0.00         7\n",
            "         780       0.00      0.00      0.00         1\n",
            "         781       0.17      1.00      0.29         7\n",
            "         782       0.00      0.00      0.00        11\n",
            "         783       0.00      0.00      0.00         2\n",
            "         784       0.18      1.00      0.30        10\n",
            "         785       0.00      0.00      0.00         3\n",
            "         786       0.10      0.40      0.15         5\n",
            "         787       0.00      0.00      0.00         6\n",
            "         788       0.00      0.00      0.00         2\n",
            "         789       0.00      0.00      0.00         5\n",
            "         790       0.00      0.00      0.00         5\n",
            "         791       0.18      1.00      0.30         6\n",
            "         792       0.00      0.00      0.00         2\n",
            "\n",
            "    accuracy                           0.15       200\n",
            "   macro avg       0.01      0.07      0.02       200\n",
            "weighted avg       0.03      0.15      0.05       200\n",
            "\n",
            "0.155\n"
          ]
        },
        {
          "output_type": "stream",
          "name": "stderr",
          "text": [
            "/usr/local/lib/python3.10/dist-packages/sklearn/metrics/_classification.py:1471: UndefinedMetricWarning: Precision and F-score are ill-defined and being set to 0.0 in labels with no predicted samples. Use `zero_division` parameter to control this behavior.\n",
            "  _warn_prf(average, modifier, msg_start, len(result))\n",
            "/usr/local/lib/python3.10/dist-packages/sklearn/metrics/_classification.py:1471: UndefinedMetricWarning: Precision and F-score are ill-defined and being set to 0.0 in labels with no predicted samples. Use `zero_division` parameter to control this behavior.\n",
            "  _warn_prf(average, modifier, msg_start, len(result))\n",
            "/usr/local/lib/python3.10/dist-packages/sklearn/metrics/_classification.py:1471: UndefinedMetricWarning: Precision and F-score are ill-defined and being set to 0.0 in labels with no predicted samples. Use `zero_division` parameter to control this behavior.\n",
            "  _warn_prf(average, modifier, msg_start, len(result))\n"
          ]
        }
      ]
    },
    {
      "cell_type": "markdown",
      "source": [
        "# **ADA Boost**"
      ],
      "metadata": {
        "id": "PdXuynRQxyim"
      }
    },
    {
      "cell_type": "code",
      "source": [
        "import pandas as pd\n",
        "import numpy as np\n",
        "import matplotlib.pyplot as plt\n",
        "from sklearn.ensemble import AdaBoostRegressor\n",
        "from sklearn.ensemble import AdaBoostClassifier\n",
        "from sklearn.model_selection import train_test_split\n",
        "from sklearn.metrics import r2_score\n",
        "from sklearn.metrics import mean_squared_error\n",
        "import pickle\n",
        "import joblib\n",
        "import warnings\n",
        "warnings.filterwarnings('ignore')"
      ],
      "metadata": {
        "id": "ocLqffwfv39m"
      },
      "execution_count": 97,
      "outputs": []
    },
    {
      "cell_type": "code",
      "source": [
        "Path = input(\"Enter the path of data:\")"
      ],
      "metadata": {
        "colab": {
          "base_uri": "https://localhost:8080/"
        },
        "id": "Cajdu_WEx-zR",
        "outputId": "5f5565d9-305d-48da-a566-45fc66e28b96"
      },
      "execution_count": 84,
      "outputs": [
        {
          "name": "stdout",
          "output_type": "stream",
          "text": [
            "Enter the path of data:/content/Mobileprice_fromjson.csv\n"
          ]
        }
      ]
    },
    {
      "cell_type": "code",
      "source": [
        "df = pd.read_csv(Path)"
      ],
      "metadata": {
        "id": "4NQ_qZZKyVmj"
      },
      "execution_count": 88,
      "outputs": []
    },
    {
      "cell_type": "code",
      "source": [
        "df_tree = df.copy(deep=True)"
      ],
      "metadata": {
        "id": "knJfTAjfyevU"
      },
      "execution_count": 86,
      "outputs": []
    },
    {
      "cell_type": "code",
      "source": [
        "map_brand = {'Apple': 0, 'Oppo': 1, 'Xiaomi': 2, 'Samsung':3,'Oneplus':4,'Motorola':5}\n",
        "df_tree['Brand_name']=df_tree['Brand_name'].map(map_brand).astype('category')\n",
        "\n",
        "map_paytype = {'cash':0, 'credit card':1, 'debit card':2, 'paypal':3}\n",
        "df_tree['Payment_type']=df_tree['Payment_type'].map(map_paytype).astype('category')\n"
      ],
      "metadata": {
        "id": "FY6k8ro3yg8M"
      },
      "execution_count": 90,
      "outputs": []
    },
    {
      "cell_type": "code",
      "source": [
        "if 'Purchase_date' in df_tree.columns:\n",
        "    # Convert 'Purchase_date' to datetime if it's not already\n",
        "    if df_tree['Purchase_date'].dtype != 'datetime64[ns]':\n",
        "        df_tree['Purchase_date'] = pd.to_datetime(df_tree['Purchase_date'])\n",
        "\n",
        "    # Proceed with extracting day, month, and year\n",
        "    df_tree['day'] = df_tree['Purchase_date'].dt.day\n",
        "    df_tree['month'] = df_tree['Purchase_date'].dt.month\n",
        "    df_tree['year'] = df_tree['Purchase_date'].dt.year\n",
        "else:\n",
        "    print(\"Error: 'Purchase_date' column not found in DataFrame.\")"
      ],
      "metadata": {
        "id": "LJqg0qY56VrI"
      },
      "execution_count": 91,
      "outputs": []
    },
    {
      "cell_type": "code",
      "source": [
        "df_tree['Purchase_date']=pd.to_datetime(df_tree['Purchase_date'],errors='coerce')\n",
        "df_tree['day']=df_tree['Purchase_date'].dt.day\n",
        "df_tree['month']=df_tree['Purchase_date'].dt.month\n",
        "df_tree['year']=df_tree['Purchase_date'].dt.year"
      ],
      "metadata": {
        "id": "Mdz_hjYp6cbm"
      },
      "execution_count": 92,
      "outputs": []
    },
    {
      "cell_type": "code",
      "source": [
        "df_tree.drop(['Customer_id','Purchase_date'],axis=1,inplace=True)"
      ],
      "metadata": {
        "id": "YgV2onEF6eqP"
      },
      "execution_count": 93,
      "outputs": []
    },
    {
      "cell_type": "code",
      "source": [
        "X=df_tree.drop(['Price'],axis=1)\n",
        "y=df_tree['Price']\n",
        "X_train,X_test,y_train,y_test=train_test_split(X,y,test_size=0.25,random_state=28)"
      ],
      "metadata": {
        "id": "uMqKzO-T6jpK"
      },
      "execution_count": 94,
      "outputs": []
    },
    {
      "cell_type": "code",
      "source": [
        "adb = AdaBoostClassifier()\n",
        "adb.fit(X_train, y_train)"
      ],
      "metadata": {
        "colab": {
          "base_uri": "https://localhost:8080/",
          "height": 75
        },
        "id": "XfmEiv3l61Zc",
        "outputId": "d44a3048-5da1-4298-9874-72b494f3a60b"
      },
      "execution_count": 98,
      "outputs": [
        {
          "output_type": "execute_result",
          "data": {
            "text/plain": [
              "AdaBoostClassifier()"
            ],
            "text/html": [
              "<style>#sk-container-id-4 {color: black;}#sk-container-id-4 pre{padding: 0;}#sk-container-id-4 div.sk-toggleable {background-color: white;}#sk-container-id-4 label.sk-toggleable__label {cursor: pointer;display: block;width: 100%;margin-bottom: 0;padding: 0.3em;box-sizing: border-box;text-align: center;}#sk-container-id-4 label.sk-toggleable__label-arrow:before {content: \"▸\";float: left;margin-right: 0.25em;color: #696969;}#sk-container-id-4 label.sk-toggleable__label-arrow:hover:before {color: black;}#sk-container-id-4 div.sk-estimator:hover label.sk-toggleable__label-arrow:before {color: black;}#sk-container-id-4 div.sk-toggleable__content {max-height: 0;max-width: 0;overflow: hidden;text-align: left;background-color: #f0f8ff;}#sk-container-id-4 div.sk-toggleable__content pre {margin: 0.2em;color: black;border-radius: 0.25em;background-color: #f0f8ff;}#sk-container-id-4 input.sk-toggleable__control:checked~div.sk-toggleable__content {max-height: 200px;max-width: 100%;overflow: auto;}#sk-container-id-4 input.sk-toggleable__control:checked~label.sk-toggleable__label-arrow:before {content: \"▾\";}#sk-container-id-4 div.sk-estimator input.sk-toggleable__control:checked~label.sk-toggleable__label {background-color: #d4ebff;}#sk-container-id-4 div.sk-label input.sk-toggleable__control:checked~label.sk-toggleable__label {background-color: #d4ebff;}#sk-container-id-4 input.sk-hidden--visually {border: 0;clip: rect(1px 1px 1px 1px);clip: rect(1px, 1px, 1px, 1px);height: 1px;margin: -1px;overflow: hidden;padding: 0;position: absolute;width: 1px;}#sk-container-id-4 div.sk-estimator {font-family: monospace;background-color: #f0f8ff;border: 1px dotted black;border-radius: 0.25em;box-sizing: border-box;margin-bottom: 0.5em;}#sk-container-id-4 div.sk-estimator:hover {background-color: #d4ebff;}#sk-container-id-4 div.sk-parallel-item::after {content: \"\";width: 100%;border-bottom: 1px solid gray;flex-grow: 1;}#sk-container-id-4 div.sk-label:hover label.sk-toggleable__label {background-color: #d4ebff;}#sk-container-id-4 div.sk-serial::before {content: \"\";position: absolute;border-left: 1px solid gray;box-sizing: border-box;top: 0;bottom: 0;left: 50%;z-index: 0;}#sk-container-id-4 div.sk-serial {display: flex;flex-direction: column;align-items: center;background-color: white;padding-right: 0.2em;padding-left: 0.2em;position: relative;}#sk-container-id-4 div.sk-item {position: relative;z-index: 1;}#sk-container-id-4 div.sk-parallel {display: flex;align-items: stretch;justify-content: center;background-color: white;position: relative;}#sk-container-id-4 div.sk-item::before, #sk-container-id-4 div.sk-parallel-item::before {content: \"\";position: absolute;border-left: 1px solid gray;box-sizing: border-box;top: 0;bottom: 0;left: 50%;z-index: -1;}#sk-container-id-4 div.sk-parallel-item {display: flex;flex-direction: column;z-index: 1;position: relative;background-color: white;}#sk-container-id-4 div.sk-parallel-item:first-child::after {align-self: flex-end;width: 50%;}#sk-container-id-4 div.sk-parallel-item:last-child::after {align-self: flex-start;width: 50%;}#sk-container-id-4 div.sk-parallel-item:only-child::after {width: 0;}#sk-container-id-4 div.sk-dashed-wrapped {border: 1px dashed gray;margin: 0 0.4em 0.5em 0.4em;box-sizing: border-box;padding-bottom: 0.4em;background-color: white;}#sk-container-id-4 div.sk-label label {font-family: monospace;font-weight: bold;display: inline-block;line-height: 1.2em;}#sk-container-id-4 div.sk-label-container {text-align: center;}#sk-container-id-4 div.sk-container {/* jupyter's `normalize.less` sets `[hidden] { display: none; }` but bootstrap.min.css set `[hidden] { display: none !important; }` so we also need the `!important` here to be able to override the default hidden behavior on the sphinx rendered scikit-learn.org. See: https://github.com/scikit-learn/scikit-learn/issues/21755 */display: inline-block !important;position: relative;}#sk-container-id-4 div.sk-text-repr-fallback {display: none;}</style><div id=\"sk-container-id-4\" class=\"sk-top-container\"><div class=\"sk-text-repr-fallback\"><pre>AdaBoostClassifier()</pre><b>In a Jupyter environment, please rerun this cell to show the HTML representation or trust the notebook. <br />On GitHub, the HTML representation is unable to render, please try loading this page with nbviewer.org.</b></div><div class=\"sk-container\" hidden><div class=\"sk-item\"><div class=\"sk-estimator sk-toggleable\"><input class=\"sk-toggleable__control sk-hidden--visually\" id=\"sk-estimator-id-4\" type=\"checkbox\" checked><label for=\"sk-estimator-id-4\" class=\"sk-toggleable__label sk-toggleable__label-arrow\">AdaBoostClassifier</label><div class=\"sk-toggleable__content\"><pre>AdaBoostClassifier()</pre></div></div></div></div></div>"
            ]
          },
          "metadata": {},
          "execution_count": 98
        }
      ]
    },
    {
      "cell_type": "code",
      "source": [
        "adb_yprd = adb.predict(X_test)\n",
        "adb_mse = mean_squared_error(y_test, adb_yprd)\n",
        "adb_r2 = r2_score(y_test, adb_yprd)\n",
        "\n",
        "print(\"Mean Squared Error (MSE):\", adb_mse)\n",
        "print(\"R-squared (R2):\", adb_r2)\n",
        "plt.scatter(y_test, adb_yprd)\n",
        "plt.xlabel(\"Actual Prices\")\n",
        "plt.ylabel(\"Predicted Prices\")\n",
        "plt.title(\"Actual Prices vs. Predicted Prices\")\n",
        "plt.show()\n",
        "plt.matshow(confusion_matrix(y_test, adb_yprd))\n",
        "plt.show()\n",
        "print(classification_report(y_test, adb_yprd))\n",
        "print(accuracy_score(y_test, adb_yprd))\n"
      ],
      "metadata": {
        "colab": {
          "base_uri": "https://localhost:8080/",
          "height": 1000
        },
        "id": "yvxj8w6V7MWj",
        "outputId": "00a1c255-c37f-4f23-eb14-fc55b8234f70"
      },
      "execution_count": 99,
      "outputs": [
        {
          "output_type": "stream",
          "name": "stdout",
          "text": [
            "Mean Squared Error (MSE): 13683.16\n",
            "R-squared (R2): 0.8032197378635111\n"
          ]
        },
        {
          "output_type": "display_data",
          "data": {
            "text/plain": [
              "<Figure size 640x480 with 1 Axes>"
            ],
            "image/png": "[encoded data removed]"
          },
          "metadata": {}
        },
        {
          "output_type": "display_data",
          "data": {
            "text/plain": [
              "<Figure size 480x480 with 1 Axes>"
            ],
            "image/png": "[encoded data removed]"
          },
          "metadata": {}
        },
        {
          "output_type": "stream",
          "name": "stdout",
          "text": [
            "              precision    recall  f1-score   support\n",
            "\n",
            "          61       0.00      0.00      0.00         2\n",
            "          62       0.00      0.00      0.00         3\n",
            "          63       0.00      0.00      0.00         3\n",
            "          64       0.00      0.00      0.00         1\n",
            "          65       0.00      0.00      0.00         3\n",
            "          66       0.00      0.00      0.00         2\n",
            "          67       0.00      0.00      0.00         6\n",
            "          69       0.00      0.00      0.00         3\n",
            "          70       0.00      0.00      0.00         1\n",
            "          71       0.00      0.00      0.00         0\n",
            "          72       0.00      0.00      0.00         2\n",
            "         109       0.00      0.00      0.00         4\n",
            "         110       0.00      0.00      0.00         1\n",
            "         112       0.00      0.00      0.00         1\n",
            "         113       0.00      0.00      0.00         2\n",
            "         114       0.00      0.00      0.00         6\n",
            "         115       0.00      0.00      0.00         4\n",
            "         116       0.00      0.00      0.00         4\n",
            "         117       0.00      0.00      0.00         2\n",
            "         118       0.00      0.00      0.00         4\n",
            "         119       0.00      0.00      0.00         5\n",
            "         120       0.00      0.00      0.00         3\n",
            "         205       0.00      0.00      0.00         1\n",
            "         206       0.00      0.00      0.00         2\n",
            "         208       0.00      0.00      0.00         4\n",
            "         210       0.00      0.00      0.00         2\n",
            "         211       0.00      0.00      0.00         3\n",
            "         212       0.00      0.00      0.00         2\n",
            "         214       0.00      0.00      0.00         4\n",
            "         215       0.00      0.00      0.00         1\n",
            "         216       0.00      0.00      0.00         2\n",
            "         388       0.00      0.00      0.00         9\n",
            "         389       0.00      0.00      0.00         7\n",
            "         390       0.00      0.00      0.00        11\n",
            "         391       0.07      1.00      0.12        10\n",
            "         392       0.00      0.00      0.00         5\n",
            "         393       0.00      0.00      0.00         8\n",
            "         394       0.00      0.00      0.00         2\n",
            "         395       0.00      0.00      0.00         6\n",
            "         396       0.00      0.00      0.00         8\n",
            "         397       0.00      0.00      0.00        14\n",
            "         398       0.00      0.00      0.00         6\n",
            "         399       0.00      0.00      0.00         8\n",
            "         781       0.00      0.00      0.00         6\n",
            "         782       0.00      0.00      0.00         3\n",
            "         783       0.00      0.00      0.00         5\n",
            "         784       0.16      1.00      0.28        12\n",
            "         785       0.00      0.00      0.00         9\n",
            "         786       0.00      0.00      0.00         6\n",
            "         787       0.00      0.00      0.00         7\n",
            "         788       0.00      0.00      0.00         2\n",
            "         789       0.00      0.00      0.00         7\n",
            "         790       0.00      0.00      0.00         5\n",
            "         791       0.00      0.00      0.00         7\n",
            "         792       0.00      0.00      0.00         4\n",
            "\n",
            "    accuracy                           0.09       250\n",
            "   macro avg       0.00      0.04      0.01       250\n",
            "weighted avg       0.01      0.09      0.02       250\n",
            "\n",
            "0.088\n"
          ]
        }
      ]
    },
    {
      "cell_type": "markdown",
      "source": [
        "# **XGBoost**"
      ],
      "metadata": {
        "id": "sAfJZE9_8Hy5"
      }
    },
    {
      "cell_type": "code",
      "source": [
        "import pandas as pd\n",
        "import numpy as np\n",
        "import matplotlib.pyplot as plt\n",
        "from xgboost import XGBRegressor\n",
        "from sklearn.model_selection import train_test_split\n",
        "from sklearn.metrics import r2_score\n",
        "from sklearn.metrics import mean_squared_error\n",
        "import pickle\n",
        "import joblib"
      ],
      "metadata": {
        "id": "qxx60uw78PIN"
      },
      "execution_count": 113,
      "outputs": []
    },
    {
      "cell_type": "code",
      "source": [
        "Path = input(\"Enter the path of data:\")"
      ],
      "metadata": {
        "colab": {
          "base_uri": "https://localhost:8080/"
        },
        "id": "JckcObm486Ip",
        "outputId": "30445d0d-500f-4e0d-f43e-8cb9696b8095"
      },
      "execution_count": 102,
      "outputs": [
        {
          "name": "stdout",
          "output_type": "stream",
          "text": [
            "Enter the path of data:/content/Mobileprice_fromjson.csv\n"
          ]
        }
      ]
    },
    {
      "cell_type": "code",
      "source": [
        "df = pd.read_csv(Path)"
      ],
      "metadata": {
        "id": "cAZCXL_m9Ikf"
      },
      "execution_count": 104,
      "outputs": []
    },
    {
      "cell_type": "code",
      "source": [
        "df_tree = df.copy(deep=True)"
      ],
      "metadata": {
        "id": "8Xopzhg19OpK"
      },
      "execution_count": 105,
      "outputs": []
    },
    {
      "cell_type": "code",
      "source": [
        "map_brand = {'Apple': 0, 'Oppo': 1, 'Xiaomi': 2, 'Samsung':3,'Oneplus':4,'Motorola':5}\n",
        "df_tree['Brand_name']=df_tree['Brand_name'].map(map_brand).astype('category')\n",
        "\n",
        "map_paytype = {'cash':0, 'credit card':1, 'debit card':2, 'paypal':3}\n",
        "df_tree['Payment_type']=df_tree['Payment_type'].map(map_paytype).astype('category')\n"
      ],
      "metadata": {
        "id": "t_ITYHQu9a7y"
      },
      "execution_count": 106,
      "outputs": []
    },
    {
      "cell_type": "code",
      "source": [
        "if 'Purchase_date' in df_tree.columns:\n",
        "    # Convert 'Purchase_date' to datetime if it's not already\n",
        "    if df_tree['Purchase_date'].dtype != 'datetime64[ns]':\n",
        "        df_tree['Purchase_date'] = pd.to_datetime(df_tree['Purchase_date'])\n",
        "\n",
        "    # Proceed with extracting day, month, and year\n",
        "    df_tree['day'] = df_tree['Purchase_date'].dt.day\n",
        "    df_tree['month'] = df_tree['Purchase_date'].dt.month\n",
        "    df_tree['year'] = df_tree['Purchase_date'].dt.year\n",
        "else:\n",
        "    print(\"Error: 'Purchase_date' column not found in DataFrame.\")"
      ],
      "metadata": {
        "id": "CDjiFhEG9iS7"
      },
      "execution_count": 107,
      "outputs": []
    },
    {
      "cell_type": "code",
      "source": [
        "df_tree['Purchase_date']=pd.to_datetime(df_tree['Purchase_date'],errors='coerce')\n",
        "df_tree['day']=df_tree['Purchase_date'].dt.day\n",
        "df_tree['month']=df_tree['Purchase_date'].dt.month\n",
        "df_tree['year']=df_tree['Purchase_date'].dt.year"
      ],
      "metadata": {
        "id": "bYuIGnXa9l6c"
      },
      "execution_count": 108,
      "outputs": []
    },
    {
      "cell_type": "code",
      "source": [
        "df_tree.drop(['Customer_id','Purchase_date'],axis=1,inplace=True)"
      ],
      "metadata": {
        "id": "Qunya0HX9rH8"
      },
      "execution_count": 109,
      "outputs": []
    },
    {
      "cell_type": "code",
      "source": [
        "X = df_tree.drop(['Price'], axis=1)\n",
        "y = df_tree['Price']\n",
        "X_train, X_test, y_train, y_test = train_test_split(X, y, test_size=0.2, random_state=42)"
      ],
      "metadata": {
        "id": "yNnKgD-f9sKH"
      },
      "execution_count": 111,
      "outputs": []
    },
    {
      "cell_type": "code",
      "source": [
        "xgb = XGBRegressor(enable_categorical=True)\n",
        "xgb.fit(X_train, y_train)"
      ],
      "metadata": {
        "colab": {
          "base_uri": "https://localhost:8080/",
          "height": 248
        },
        "id": "mUa3kNvy9wYi",
        "outputId": "478bb1af-e2a9-483b-8d11-7c29f9167a0f"
      },
      "execution_count": 116,
      "outputs": [
        {
          "output_type": "execute_result",
          "data": {
            "text/plain": [
              "XGBRegressor(base_score=None, booster=None, callbacks=None,\n",
              "             colsample_bylevel=None, colsample_bynode=None,\n",
              "             colsample_bytree=None, device=None, early_stopping_rounds=None,\n",
              "             enable_categorical=True, eval_metric=None, feature_types=None,\n",
              "             gamma=None, grow_policy=None, importance_type=None,\n",
              "             interaction_constraints=None, learning_rate=None, max_bin=None,\n",
              "             max_cat_threshold=None, max_cat_to_onehot=None,\n",
              "             max_delta_step=None, max_depth=None, max_leaves=None,\n",
              "             min_child_weight=None, missing=nan, monotone_constraints=None,\n",
              "             multi_strategy=None, n_estimators=None, n_jobs=None,\n",
              "             num_parallel_tree=None, random_state=None, ...)"
            ],
            "text/html": [
              "<style>#sk-container-id-6 {color: black;}#sk-container-id-6 pre{padding: 0;}#sk-container-id-6 div.sk-toggleable {background-color: white;}#sk-container-id-6 label.sk-toggleable__label {cursor: pointer;display: block;width: 100%;margin-bottom: 0;padding: 0.3em;box-sizing: border-box;text-align: center;}#sk-container-id-6 label.sk-toggleable__label-arrow:before {content: \"▸\";float: left;margin-right: 0.25em;color: #696969;}#sk-container-id-6 label.sk-toggleable__label-arrow:hover:before {color: black;}#sk-container-id-6 div.sk-estimator:hover label.sk-toggleable__label-arrow:before {color: black;}#sk-container-id-6 div.sk-toggleable__content {max-height: 0;max-width: 0;overflow: hidden;text-align: left;background-color: #f0f8ff;}#sk-container-id-6 div.sk-toggleable__content pre {margin: 0.2em;color: black;border-radius: 0.25em;background-color: #f0f8ff;}#sk-container-id-6 input.sk-toggleable__control:checked~div.sk-toggleable__content {max-height: 200px;max-width: 100%;overflow: auto;}#sk-container-id-6 input.sk-toggleable__control:checked~label.sk-toggleable__label-arrow:before {content: \"▾\";}#sk-container-id-6 div.sk-estimator input.sk-toggleable__control:checked~label.sk-toggleable__label {background-color: #d4ebff;}#sk-container-id-6 div.sk-label input.sk-toggleable__control:checked~label.sk-toggleable__label {background-color: #d4ebff;}#sk-container-id-6 input.sk-hidden--visually {border: 0;clip: rect(1px 1px 1px 1px);clip: rect(1px, 1px, 1px, 1px);height: 1px;margin: -1px;overflow: hidden;padding: 0;position: absolute;width: 1px;}#sk-container-id-6 div.sk-estimator {font-family: monospace;background-color: #f0f8ff;border: 1px dotted black;border-radius: 0.25em;box-sizing: border-box;margin-bottom: 0.5em;}#sk-container-id-6 div.sk-estimator:hover {background-color: #d4ebff;}#sk-container-id-6 div.sk-parallel-item::after {content: \"\";width: 100%;border-bottom: 1px solid gray;flex-grow: 1;}#sk-container-id-6 div.sk-label:hover label.sk-toggleable__label {background-color: #d4ebff;}#sk-container-id-6 div.sk-serial::before {content: \"\";position: absolute;border-left: 1px solid gray;box-sizing: border-box;top: 0;bottom: 0;left: 50%;z-index: 0;}#sk-container-id-6 div.sk-serial {display: flex;flex-direction: column;align-items: center;background-color: white;padding-right: 0.2em;padding-left: 0.2em;position: relative;}#sk-container-id-6 div.sk-item {position: relative;z-index: 1;}#sk-container-id-6 div.sk-parallel {display: flex;align-items: stretch;justify-content: center;background-color: white;position: relative;}#sk-container-id-6 div.sk-item::before, #sk-container-id-6 div.sk-parallel-item::before {content: \"\";position: absolute;border-left: 1px solid gray;box-sizing: border-box;top: 0;bottom: 0;left: 50%;z-index: -1;}#sk-container-id-6 div.sk-parallel-item {display: flex;flex-direction: column;z-index: 1;position: relative;background-color: white;}#sk-container-id-6 div.sk-parallel-item:first-child::after {align-self: flex-end;width: 50%;}#sk-container-id-6 div.sk-parallel-item:last-child::after {align-self: flex-start;width: 50%;}#sk-container-id-6 div.sk-parallel-item:only-child::after {width: 0;}#sk-container-id-6 div.sk-dashed-wrapped {border: 1px dashed gray;margin: 0 0.4em 0.5em 0.4em;box-sizing: border-box;padding-bottom: 0.4em;background-color: white;}#sk-container-id-6 div.sk-label label {font-family: monospace;font-weight: bold;display: inline-block;line-height: 1.2em;}#sk-container-id-6 div.sk-label-container {text-align: center;}#sk-container-id-6 div.sk-container {/* jupyter's `normalize.less` sets `[hidden] { display: none; }` but bootstrap.min.css set `[hidden] { display: none !important; }` so we also need the `!important` here to be able to override the default hidden behavior on the sphinx rendered scikit-learn.org. See: https://github.com/scikit-learn/scikit-learn/issues/21755 */display: inline-block !important;position: relative;}#sk-container-id-6 div.sk-text-repr-fallback {display: none;}</style><div id=\"sk-container-id-6\" class=\"sk-top-container\"><div class=\"sk-text-repr-fallback\"><pre>XGBRegressor(base_score=None, booster=None, callbacks=None,\n",
              "             colsample_bylevel=None, colsample_bynode=None,\n",
              "             colsample_bytree=None, device=None, early_stopping_rounds=None,\n",
              "             enable_categorical=True, eval_metric=None, feature_types=None,\n",
              "             gamma=None, grow_policy=None, importance_type=None,\n",
              "             interaction_constraints=None, learning_rate=None, max_bin=None,\n",
              "             max_cat_threshold=None, max_cat_to_onehot=None,\n",
              "             max_delta_step=None, max_depth=None, max_leaves=None,\n",
              "             min_child_weight=None, missing=nan, monotone_constraints=None,\n",
              "             multi_strategy=None, n_estimators=None, n_jobs=None,\n",
              "             num_parallel_tree=None, random_state=None, ...)</pre><b>In a Jupyter environment, please rerun this cell to show the HTML representation or trust the notebook. <br />On GitHub, the HTML representation is unable to render, please try loading this page with nbviewer.org.</b></div><div class=\"sk-container\" hidden><div class=\"sk-item\"><div class=\"sk-estimator sk-toggleable\"><input class=\"sk-toggleable__control sk-hidden--visually\" id=\"sk-estimator-id-6\" type=\"checkbox\" checked><label for=\"sk-estimator-id-6\" class=\"sk-toggleable__label sk-toggleable__label-arrow\">XGBRegressor</label><div class=\"sk-toggleable__content\"><pre>XGBRegressor(base_score=None, booster=None, callbacks=None,\n",
              "             colsample_bylevel=None, colsample_bynode=None,\n",
              "             colsample_bytree=None, device=None, early_stopping_rounds=None,\n",
              "             enable_categorical=True, eval_metric=None, feature_types=None,\n",
              "             gamma=None, grow_policy=None, importance_type=None,\n",
              "             interaction_constraints=None, learning_rate=None, max_bin=None,\n",
              "             max_cat_threshold=None, max_cat_to_onehot=None,\n",
              "             max_delta_step=None, max_depth=None, max_leaves=None,\n",
              "             min_child_weight=None, missing=nan, monotone_constraints=None,\n",
              "             multi_strategy=None, n_estimators=None, n_jobs=None,\n",
              "             num_parallel_tree=None, random_state=None, ...)</pre></div></div></div></div></div>"
            ]
          },
          "metadata": {},
          "execution_count": 116
        }
      ]
    },
    {
      "cell_type": "code",
      "source": [
        "xgb_yprd = xgb.predict(X_test)\n",
        "xgb_mse = mean_squared_error(y_test, xgb_yprd)\n",
        "xgb_r2 = r2_score(y_test, xgb_yprd)\n",
        "\n",
        "print(\"Mean Squared Error (MSE):\", xgb_mse)\n",
        "print(\"R-squared (R2):\", xgb_r2)\n",
        "plt.scatter(y_test, xgb_yprd)\n",
        "plt.xlabel(\"Actual Prices\")\n",
        "plt.ylabel(\"Predicted Prices\")\n",
        "plt.title(\"Actual Prices vs. Predicted Prices\")\n",
        "plt.show()"
      ],
      "metadata": {
        "colab": {
          "base_uri": "https://localhost:8080/",
          "height": 507
        },
        "id": "gxKngSzD-kBO",
        "outputId": "6dcb0c84-ce07-4575-f2ef-c737a0af5fb8"
      },
      "execution_count": 118,
      "outputs": [
        {
          "output_type": "stream",
          "name": "stdout",
          "text": [
            "Mean Squared Error (MSE): 0.011248432379798032\n",
            "R-squared (R2): 0.9999998444237991\n"
          ]
        },
        {
          "output_type": "display_data",
          "data": {
            "text/plain": [
              "<Figure size 640x480 with 1 Axes>"
            ],
            "image/png": "[encoded data removed]"
          },
          "metadata": {}
        }
      ]
    }
  ]
}